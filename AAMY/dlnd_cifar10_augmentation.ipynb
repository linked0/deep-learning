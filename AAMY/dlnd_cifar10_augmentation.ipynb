{
  "nbformat": 4,
  "nbformat_minor": 0,
  "metadata": {
    "colab": {
      "name": "dlnd_cifar10_augmentation.ipynb",
      "version": "0.3.2",
      "provenance": [],
      "include_colab_link": true
    },
    "kernelspec": {
      "name": "python3",
      "display_name": "Python 3"
    }
  },
  "cells": [
    {
      "cell_type": "markdown",
      "metadata": {
        "id": "view-in-github",
        "colab_type": "text"
      },
      "source": [
        "<a href=\"https://colab.research.google.com/github/linked0/deep-learning/blob/master/AAMY/dlnd_cifar10_augmentation.ipynb\" target=\"_parent\"><img src=\"https://colab.research.google.com/assets/colab-badge.svg\" alt=\"Open In Colab\"/></a>"
      ]
    },
    {
      "metadata": {
        "id": "TuDVRqXor2Sv",
        "colab_type": "text"
      },
      "cell_type": "markdown",
      "source": [
        "2019/04/29 작성 시작"
      ]
    },
    {
      "metadata": {
        "id": "OIT21klLr_NG",
        "colab_type": "text"
      },
      "cell_type": "markdown",
      "source": [
        "## 1. Load CIFAR-10 Databse"
      ]
    },
    {
      "metadata": {
        "id": "yBuqq45Grvu5",
        "colab_type": "code",
        "colab": {
          "base_uri": "https://localhost:8080/",
          "height": 68
        },
        "outputId": "ee045929-151b-4680-cc0d-1c0eadef8619"
      },
      "cell_type": "code",
      "source": [
        "import keras\n",
        "from keras.datasets import cifar10\n",
        "\n",
        "# load the pre-shuffled train and test data\n",
        "(x_train, y_train), (x_test, y_test) = cifar10.load_data()"
      ],
      "execution_count": 1,
      "outputs": [
        {
          "output_type": "stream",
          "text": [
            "Using TensorFlow backend.\n"
          ],
          "name": "stderr"
        },
        {
          "output_type": "stream",
          "text": [
            "Downloading data from https://www.cs.toronto.edu/~kriz/cifar-10-python.tar.gz\n",
            "170500096/170498071 [==============================] - 4s 0us/step\n"
          ],
          "name": "stdout"
        }
      ]
    },
    {
      "metadata": {
        "id": "RZfA4Rs0saAm",
        "colab_type": "text"
      },
      "cell_type": "markdown",
      "source": [
        "## 2. Visualize the First 24 Training Images"
      ]
    },
    {
      "metadata": {
        "id": "4XXduaTwr8ny",
        "colab_type": "code",
        "colab": {
          "base_uri": "https://localhost:8080/",
          "height": 660
        },
        "outputId": "4b470e86-4894-411a-c8f4-f2ddda51ed99"
      },
      "cell_type": "code",
      "source": [
        "import numpy as np\n",
        "import matplotlib.pyplot as plt\n",
        "%matplotlib inline\n",
        "\n",
        "fig = plt.figure(figsize=(20, 5))\n",
        "for i in range(1):\n",
        "  ax = fig.add_subplot(3, 12, i + 1, xticks=[], yticks=[])\n",
        "  sample = x_train[i+201]\n",
        "  print(sample[0])\n",
        "  sample2 = np.squeeze(sample)\n",
        "  ax.imshow(sample2)\n",
        "  "
      ],
      "execution_count": 18,
      "outputs": [
        {
          "output_type": "stream",
          "text": [
            "[[ 48  30  35]\n",
            " [128  95 101]\n",
            " [156 135 136]\n",
            " [140 134 130]\n",
            " [154 151 151]\n",
            " [204 202 207]\n",
            " [178 179 181]\n",
            " [174 169 167]\n",
            " [173 159 158]\n",
            " [167 154 152]\n",
            " [141 127 126]\n",
            " [133 122 120]\n",
            " [113 105 103]\n",
            " [116 101  99]\n",
            " [109  92  88]\n",
            " [111  96  88]\n",
            " [175 152 132]\n",
            " [151 143 112]\n",
            " [ 56  64  31]\n",
            " [ 37  51  22]\n",
            " [ 38  51  27]\n",
            " [ 20  31  12]\n",
            " [ 25  37  18]\n",
            " [ 69  81  55]\n",
            " [ 29  41  21]\n",
            " [ 13  23  13]\n",
            " [ 17  28  16]\n",
            " [ 16  26  13]\n",
            " [ 27  36  21]\n",
            " [ 41  44  34]\n",
            " [ 16  18  14]\n",
            " [  7   9   7]]\n"
          ],
          "name": "stdout"
        },
        {
          "output_type": "display_data",
          "data": {
            "image/png": "[encoded data removed]",
            "text/plain": [
              "<Figure size 1440x360 with 1 Axes>"
            ]
          },
          "metadata": {
            "tags": []
          }
        }
      ]
    },
    {
      "metadata": {
        "id": "0ELR_wFIs1BI",
        "colab_type": "code",
        "colab": {
          "base_uri": "https://localhost:8080/",
          "height": 561
        },
        "outputId": "ab5215c3-2c29-4f47-ef64-5fe69d614919"
      },
      "cell_type": "code",
      "source": [
        "print(sample2[0])"
      ],
      "execution_count": 19,
      "outputs": [
        {
          "output_type": "stream",
          "text": [
            "[[ 48  30  35]\n",
            " [128  95 101]\n",
            " [156 135 136]\n",
            " [140 134 130]\n",
            " [154 151 151]\n",
            " [204 202 207]\n",
            " [178 179 181]\n",
            " [174 169 167]\n",
            " [173 159 158]\n",
            " [167 154 152]\n",
            " [141 127 126]\n",
            " [133 122 120]\n",
            " [113 105 103]\n",
            " [116 101  99]\n",
            " [109  92  88]\n",
            " [111  96  88]\n",
            " [175 152 132]\n",
            " [151 143 112]\n",
            " [ 56  64  31]\n",
            " [ 37  51  22]\n",
            " [ 38  51  27]\n",
            " [ 20  31  12]\n",
            " [ 25  37  18]\n",
            " [ 69  81  55]\n",
            " [ 29  41  21]\n",
            " [ 13  23  13]\n",
            " [ 17  28  16]\n",
            " [ 16  26  13]\n",
            " [ 27  36  21]\n",
            " [ 41  44  34]\n",
            " [ 16  18  14]\n",
            " [  7   9   7]]\n"
          ],
          "name": "stdout"
        }
      ]
    },
    {
      "metadata": {
        "id": "APy0clz5uecQ",
        "colab_type": "text"
      },
      "cell_type": "markdown",
      "source": [
        "## 3. Rescale the Images by Dividing Every Pixel in Every Image by 255"
      ]
    },
    {
      "metadata": {
        "id": "LL2qm06_t5Dz",
        "colab_type": "code",
        "colab": {}
      },
      "cell_type": "code",
      "source": [
        "# rescale [0, 255] --> [0, 1]\n",
        "x_train = x_train.astype('float32')/255\n",
        "x_test = x_test.astype('float32')/255"
      ],
      "execution_count": 0,
      "outputs": []
    },
    {
      "metadata": {
        "id": "eovFFOX8uxeY",
        "colab_type": "text"
      },
      "cell_type": "markdown",
      "source": [
        "## 4. Break Dataset into Training, Testing, and Validation Sets"
      ]
    },
    {
      "metadata": {
        "id": "0x_mSMcAudHn",
        "colab_type": "code",
        "colab": {
          "base_uri": "https://localhost:8080/",
          "height": 85
        },
        "outputId": "17ca1efd-8936-4b63-8804-90f6c6a876ef"
      },
      "cell_type": "code",
      "source": [
        "from keras.utils import np_utils\n",
        "\n",
        "# break training set into training and validation sets\n",
        "(x_train, x_valid) = x_train[5000:], x_train[:5000]\n",
        "(y_train, y_valid) = y_train[5000:], y_train[:5000]\n",
        "\n",
        "# one-hot encode the labels\n",
        "num_classes = len(np.unique(y_train))\n",
        "y_train = keras.utils.to_categorical(y_train, num_classes)\n",
        "y_test = keras.utils.to_categorical(y_test, num_classes)\n",
        "y_valid = keras.utils.to_categorical(y_valid, num_classes)\n",
        "\n",
        "# print shape of training set\n",
        "print('x_train shape:', x_train.shape)\n",
        "\n",
        "# print number of training, validation, and test images\n",
        "print(x_train.shape[0], 'train samples')\n",
        "print(x_test.shape[0], 'test samples')\n",
        "print(x_valid.shape[0], 'validataion samples')"
      ],
      "execution_count": 21,
      "outputs": [
        {
          "output_type": "stream",
          "text": [
            "x_train shape: (45000, 32, 32, 3)\n",
            "45000 train samples\n",
            "10000 test samples\n",
            "5000 validataion samples\n"
          ],
          "name": "stdout"
        }
      ]
    },
    {
      "metadata": {
        "id": "sttOuT62xXC7",
        "colab_type": "text"
      },
      "cell_type": "markdown",
      "source": [
        "## 5. Create and Configure Augmented Image Generator"
      ]
    },
    {
      "metadata": {
        "id": "oWYgxvv3xVSM",
        "colab_type": "code",
        "colab": {}
      },
      "cell_type": "code",
      "source": [
        "from keras.preprocessing.image import ImageDataGenerator\n",
        "\n",
        "# create and configure augmented image generator\n",
        "datagen_train = ImageDataGenerator(\n",
        "  width_shift_range=0.1, # randomly shift images horizontally (10% of total width)\n",
        "  height_shift_range=0.1, # randomly shift images vertically (10% of total height)\n",
        "  horizontal_flip=True) # randomly flip images horizontally\n",
        "\n",
        "# fit augmented image generator on data\n",
        "datagen_train.fit(x_train)"
      ],
      "execution_count": 0,
      "outputs": []
    },
    {
      "metadata": {
        "id": "DdEIdvSByYvx",
        "colab_type": "code",
        "colab": {}
      },
      "cell_type": "code",
      "source": [
        ""
      ],
      "execution_count": 0,
      "outputs": []
    }
  ]
}