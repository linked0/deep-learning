{
  "nbformat": 4,
  "nbformat_minor": 0,
  "metadata": {
    "colab": {
      "name": "Sentiment_Classification_Solutions_my.ipynb",
      "version": "0.3.2",
      "provenance": [],
      "include_colab_link": true
    },
    "kernelspec": {
      "name": "python3",
      "display_name": "Python 3"
    }
  },
  "cells": [
    {
      "cell_type": "markdown",
      "metadata": {
        "id": "view-in-github",
        "colab_type": "text"
      },
      "source": [
        "<a href=\"https://colab.research.google.com/github/linked0/deep-learning/blob/master/AAMY/Sentiment_Classification_Solutions_my.ipynb\" target=\"_parent\"><img src=\"https://colab.research.google.com/assets/colab-badge.svg\" alt=\"Open In Colab\"/></a>"
      ]
    },
    {
      "cell_type": "code",
      "metadata": {
        "id": "780dnVH9biJO",
        "colab_type": "code",
        "colab": {}
      },
      "source": [
        ""
      ],
      "execution_count": 0,
      "outputs": []
    },
    {
      "cell_type": "markdown",
      "metadata": {
        "id": "tjOquh1MbjPM",
        "colab_type": "text"
      },
      "source": [
        "# Sentiment Classification & How To \"Frame Problems\" for a Neural Network"
      ]
    },
    {
      "cell_type": "markdown",
      "metadata": {
        "id": "04MSAzClbp6L",
        "colab_type": "text"
      },
      "source": [
        "### What You Should Already Know\n",
        "* neural networks, forward and back-propagation\n",
        "* stochastic gradient descent\n",
        "* mean squared error\n",
        "* and train/test spits"
      ]
    },
    {
      "cell_type": "markdown",
      "metadata": {
        "id": "elgkcwF1b6L2",
        "colab_type": "text"
      },
      "source": [
        "### Where to Get Help if You Need It\n",
        "* Re-watch previous Udacity Lectures\n",
        "* Levderage the recommended Course Reading Materail - Grokking Deep Learning\n",
        "* Shoot me a tweet @iamtrask"
      ]
    },
    {
      "cell_type": "markdown",
      "metadata": {
        "id": "9TQvLbMQcPkN",
        "colab_type": "text"
      },
      "source": [
        "### Tutorial Outline:\n",
        "* Intro: The Importance of \"Framing a Problem\" (this lesson)\n",
        "....\n"
      ]
    },
    {
      "cell_type": "markdown",
      "metadata": {
        "id": "WIpBym8LdW8q",
        "colab_type": "text"
      },
      "source": [
        "# 준비"
      ]
    },
    {
      "cell_type": "code",
      "metadata": {
        "id": "MrHNCI1QhLZ4",
        "colab_type": "code",
        "colab": {
          "base_uri": "https://localhost:8080/",
          "height": 106
        },
        "outputId": "8fa9bb27-8a32-4cdc-9cbc-00ef469bc0f3"
      },
      "source": [
        "!apt-get install -y -qq software-properties-common module-init-tools > /dev/null\n",
        "!add-apt-repository -y ppa:alessandro-strada/ppa 2>&1 > /dev/null\n",
        "!apt-get update -qq 2>&1 > /dev/null\n",
        "!apt-get -y install -qq google-drive-ocamlfuse fuse > /dev/nul\n",
        "\n",
        "from google.colab import auth\n",
        "auth.authenticate_user()\n",
        "from oauth2client.client import GoogleCredentials\n",
        "creds = GoogleCredentials.get_application_default()\n",
        "import getpass\n",
        "!google-drive-ocamlfuse -headless -id={creds.client_id} -secret={creds.client_secret} < /dev/null 2>&1 | grep URL\n",
        "vcode = getpass.getpass()\n",
        "!echo {vcode} | google-drive-ocamlfuse -headless -id={creds.client_id} -secret={creds.client_secret}\n",
        "\n",
        "!mkdir -p drive\n",
        "!google-drive-ocamlfuse drive\n"
      ],
      "execution_count": 7,
      "outputs": [
        {
          "output_type": "stream",
          "text": [
            "Please, open the following URL in a web browser: https://accounts.google.com/o/oauth2/auth?client_id=32555940559.apps.googleusercontent.com&redirect_uri=urn%3Aietf%3Awg%3Aoauth%3A2.0%3Aoob&scope=https%3A%2F%2Fwww.googleapis.com%2Fauth%2Fdrive&response_type=code&access_type=offline&approval_prompt=force\n",
            "··········\n",
            "Please, open the following URL in a web browser: https://accounts.google.com/o/oauth2/auth?client_id=32555940559.apps.googleusercontent.com&redirect_uri=urn%3Aietf%3Awg%3Aoauth%3A2.0%3Aoob&scope=https%3A%2F%2Fwww.googleapis.com%2Fauth%2Fdrive&response_type=code&access_type=offline&approval_prompt=force\n",
            "Please enter the verification code: Access token retrieved correctly.\n"
          ],
          "name": "stdout"
        }
      ]
    },
    {
      "cell_type": "code",
      "metadata": {
        "id": "ojdkR1_FdEug",
        "colab_type": "code",
        "colab": {
          "base_uri": "https://localhost:8080/",
          "height": 363
        },
        "outputId": "bbc26d6d-1fa8-4e17-fb37-d0470858d05b"
      },
      "source": [
        "###### git partially cloning\n",
        "repo='deep-learning'\n",
        "sub_dir='sentiment-network'\n",
        "url='https://github.com/linked0/' + repo + '.git'\n",
        "!mkdir $repo\n",
        "%cd $repo\n",
        "!git init\n",
        "!git remote add -f origin $url\n",
        "!git config core.sparsecheckout true\n",
        "!echo $sub_dir >> .git/info/sparse-checkout\n",
        "!git pull --recurse-submodules origin master\n",
        "%cd $sub_dir\n",
        "!ls"
      ],
      "execution_count": 3,
      "outputs": [
        {
          "output_type": "stream",
          "text": [
            "/content/deep-learning\n",
            "Initialized empty Git repository in /content/deep-learning/.git/\n",
            "Updating origin\n",
            "remote: Enumerating objects: 80, done.\u001b[K\n",
            "remote: Counting objects: 100% (80/80), done.\u001b[K\n",
            "remote: Compressing objects: 100% (69/69), done.\u001b[K\n",
            "remote: Total 1387 (delta 47), reused 19 (delta 11), pack-reused 1307\u001b[K\n",
            "Receiving objects: 100% (1387/1387), 127.04 MiB | 27.89 MiB/s, done.\n",
            "Resolving deltas: 100% (421/421), done.\n",
            "From https://github.com/linked0/deep-learning\n",
            " * [new branch]      master     -> origin/master\n",
            "From https://github.com/linked0/deep-learning\n",
            " * branch            master     -> FETCH_HEAD\n",
            "/content/deep-learning/sentiment-network\n",
            "labels.txt\t\t\t\t     sentiment_network_2.png\n",
            "requirements.txt\t\t\t     sentiment_network.png\n",
            "reviews.txt\t\t\t\t     sentiment_network_pos.png\n",
            "Sentiment_Classification_Projects.ipynb      sentiment_network_sparse_2.png\n",
            "Sentiment_Classification_Solutions.ipynb     sentiment_network_sparse.png\n",
            "Sentiment_Classification_Solutions_my.ipynb\n"
          ],
          "name": "stdout"
        }
      ]
    },
    {
      "cell_type": "code",
      "metadata": {
        "id": "iDE39KKhd6D9",
        "colab_type": "code",
        "colab": {
          "base_uri": "https://localhost:8080/",
          "height": 121
        },
        "outputId": "b11bf159-becd-4740-d350-b644db3ea5c5"
      },
      "source": [
        ""
      ],
      "execution_count": 4,
      "outputs": [
        {
          "output_type": "stream",
          "text": [
            "\u001b[0m\u001b[01;32mlabels.txt\u001b[0m*                                  \u001b[01;32msentiment_network_2.png\u001b[0m*\n",
            "\u001b[01;32mrequirements.txt\u001b[0m*                            \u001b[01;32msentiment_network.png\u001b[0m*\n",
            "\u001b[01;32mreviews.txt\u001b[0m*                                 \u001b[01;32msentiment_network_pos.png\u001b[0m*\n",
            "\u001b[01;32mSentiment_Classification_Projects.ipynb\u001b[0m*     \u001b[01;32msentiment_network_sparse_2.png\u001b[0m*\n",
            "\u001b[01;32mSentiment_Classification_Solutions.ipynb\u001b[0m*    \u001b[01;32msentiment_network_sparse.png\u001b[0m*\n",
            "Sentiment_Classification_Solutions_my.ipynb\n"
          ],
          "name": "stdout"
        }
      ]
    },
    {
      "cell_type": "code",
      "metadata": {
        "id": "HWry-zPyir1D",
        "colab_type": "code",
        "colab": {}
      },
      "source": [
        "from google.colab import files\n",
        "files.download(\"reviews.txt\")\n",
        " "
      ],
      "execution_count": 0,
      "outputs": []
    },
    {
      "cell_type": "markdown",
      "metadata": {
        "id": "QBlC5hJacda8",
        "colab_type": "text"
      },
      "source": [
        "# Lesson: Curate a Dataset"
      ]
    },
    {
      "cell_type": "code",
      "metadata": {
        "id": "KVbhj7utbo5J",
        "colab_type": "code",
        "colab": {}
      },
      "source": [
        "def pretty_print_review_and_label(i):\n",
        "  print(labels[i] + \"\\t:\\t\" + reviews[i][:80] + \"...\")\n",
        "\n",
        "g = open('reviews.txt', 'r') # What we know!\n",
        "review = list(map(lambda x:x[:-1], g.readlines()))\n",
        "g.close()\n",
        "\n",
        "g = open('labels.txt', 'r')\n",
        "labels = list(map(lambda x:x[:-1].upper(), g.readlines()))\n",
        "g.close()"
      ],
      "execution_count": 0,
      "outputs": []
    },
    {
      "cell_type": "code",
      "metadata": {
        "id": "X6PGcqEjjjyO",
        "colab_type": "code",
        "colab": {
          "base_uri": "https://localhost:8080/",
          "height": 35
        },
        "outputId": "61c75e65-f000-40cc-dc79-b12b014056d2"
      },
      "source": [
        "len(review)"
      ],
      "execution_count": 12,
      "outputs": [
        {
          "output_type": "execute_result",
          "data": {
            "text/plain": [
              "25000"
            ]
          },
          "metadata": {
            "tags": []
          },
          "execution_count": 12
        }
      ]
    },
    {
      "cell_type": "code",
      "metadata": {
        "id": "5LO8sGsqkbsu",
        "colab_type": "code",
        "colab": {
          "base_uri": "https://localhost:8080/",
          "height": 55
        },
        "outputId": "10074368-48c4-490e-8996-2753a2efe87c"
      },
      "source": [
        "review[0]"
      ],
      "execution_count": 13,
      "outputs": [
        {
          "output_type": "execute_result",
          "data": {
            "text/plain": [
              "'bromwell high is a cartoon comedy . it ran at the same time as some other programs about school life  such as  teachers  . my   years in the teaching profession lead me to believe that bromwell high  s satire is much closer to reality than is  teachers  . the scramble to survive financially  the insightful students who can see right through their pathetic teachers  pomp  the pettiness of the whole situation  all remind me of the schools i knew and their students . when i saw the episode in which a student repeatedly tried to burn down the school  i immediately recalled . . . . . . . . . at . . . . . . . . . . high . a classic line inspector i  m here to sack one of your teachers . student welcome to bromwell high . i expect that many adults of my age think that bromwell high is far fetched . what a pity that it isn  t   '"
            ]
          },
          "metadata": {
            "tags": []
          },
          "execution_count": 13
        }
      ]
    },
    {
      "cell_type": "code",
      "metadata": {
        "id": "poEnWbPGkdq4",
        "colab_type": "code",
        "colab": {
          "base_uri": "https://localhost:8080/",
          "height": 35
        },
        "outputId": "370dee9f-4bd2-47c5-be9b-ec567d837f6e"
      },
      "source": [
        "labels[0]"
      ],
      "execution_count": 14,
      "outputs": [
        {
          "output_type": "execute_result",
          "data": {
            "text/plain": [
              "'POSITIVE'"
            ]
          },
          "metadata": {
            "tags": []
          },
          "execution_count": 14
        }
      ]
    },
    {
      "cell_type": "code",
      "metadata": {
        "id": "XSeCKzoSkgl-",
        "colab_type": "code",
        "colab": {}
      },
      "source": [
        ""
      ],
      "execution_count": 0,
      "outputs": []
    }
  ]
}