{
  "nbformat": 4,
  "nbformat_minor": 0,
  "metadata": {
    "colab": {
      "name": "DRLND_p1_navigation.ipynb",
      "version": "0.3.2",
      "provenance": [],
      "include_colab_link": true
    },
    "kernelspec": {
      "name": "python3",
      "display_name": "Python 3"
    }
  },
  "cells": [
    {
      "cell_type": "markdown",
      "metadata": {
        "id": "view-in-github",
        "colab_type": "text"
      },
      "source": [
        "<a href=\"https://colab.research.google.com/github/linked0/deep-learning/blob/master/AAMY/DRLND_p1_navigation.ipynb\" target=\"_parent\"><img src=\"https://colab.research.google.com/assets/colab-badge.svg\" alt=\"Open In Colab\"/></a>"
      ]
    },
    {
      "metadata": {
        "id": "qaBGJAsKVjRl",
        "colab_type": "text"
      },
      "cell_type": "markdown",
      "source": [
        "# model.py"
      ]
    },
    {
      "metadata": {
        "id": "_rzaGpbKUON0",
        "colab_type": "code",
        "colab": {}
      },
      "cell_type": "code",
      "source": [
        "# model.py\n",
        "import torch\n",
        "import torch.nn as nn\n",
        "import torch.nn.functional as F\n",
        "\n",
        "class QNetwork(nn.Module):\n",
        "  \"\"\"Actor (Policy) Model.\"\"\"\n",
        "  \n",
        "  def __init__(self, state_size, action_size, seed, fc1_units=64, fc2_units=64):\n",
        "    \"\"\"Initialize parameters and build model.\n",
        "    Params\n",
        "    ======\n",
        "      state_size (int): Dimension of each state\n",
        "      action_size (int): Dimension of each action\n",
        "      seed (int): Random seed\n",
        "      fc1_units (int): Number of nodes in first hidden layer\n",
        "      fc2_units (int): Number of nodes in second hidden layer\n",
        "    \"\"\"\n",
        "    super(QNetwork, self).__init__()\n",
        "    self.seed = torch.manual_seed(seed)\n",
        "    self.fc1 = nn.Linear(state_size, fc1_units)\n",
        "    self.fc2 = nn.Linear(fc1_units, fc2_units)\n",
        "    self.fc3 = nn.Linear(fc2_units, action_size)\n",
        "    \n",
        "  def forward(self, state):\n",
        "    \"\"\"Build a network that maps state -> action values.\"\"\"\n",
        "    x = F.relu(self.fc1(state))\n",
        "    x = F.relu(self.fc2(x))\n",
        "    return self.fc3(x)"
      ],
      "execution_count": 0,
      "outputs": []
    },
    {
      "metadata": {
        "id": "hT4Z6tTnVmW2",
        "colab_type": "text"
      },
      "cell_type": "markdown",
      "source": [
        "# dqn_agent.py"
      ]
    },
    {
      "metadata": {
        "id": "qyG-PgI4VhLE",
        "colab_type": "code",
        "colab": {}
      },
      "cell_type": "code",
      "source": [
        ""
      ],
      "execution_count": 0,
      "outputs": []
    }
  ]
}