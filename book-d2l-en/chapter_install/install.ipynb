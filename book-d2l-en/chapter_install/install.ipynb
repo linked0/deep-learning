{
 "cells": [
  {
   "cell_type": "markdown",
   "metadata": {},
   "source": [
    "# Installation\n",
    "\n",
    "To get you up and running with hands-on experiences, we'll need you to set up with a Python environment, Jupyter's interactive notebooks, the relevant libraries, and the code needed to *run the book*.\n",
    "\n",
    "\n",
    "## Obtaining Code and Installing Running Environment\n",
    "\n",
    "This book with code can be downloaded for free. For simplicity we recommend conda, a popular Python package manager to install all libraries. Windows users and Linux/macOS users can follow the instructions below respectively.\n",
    "\n",
    "### Windows Users\n",
    "\n",
    "If it is your first time to run the code of this book, you need to complete the following 5 steps. Next time you can jump directly to Step 4 and Step 5.\n",
    "\n",
    "Step 1 is to download and install [Miniconda](https://conda.io/en/master/miniconda.html) according to the operating system in use. During the installation, it is required to choose the option \"Add Anaconda to the system PATH environment variable\".\n",
    "\n",
    "Step 2 is to download the compressed file containing the code of this book. It is available at https://www.d2l.ai/d2l-en-1.0.zip. After downloading the zip file, create a folder `d2l-en` and extract the zip file into the folder. At the current folder, enter `cmd` on the address bar of File Explorer to enter the command line mode.\n",
    "\n",
    "Step 3 is to create a virtual (running) environment using conda to install the libraries needed by this book. Here `environment.yml` is placed in the downloaded zip file. Open the file with a text editor to see the libraries (such as MXNet and `d2lzh` package) and their version numbers on which running the code of the book is dependent."
   ]
  },
  {
   "cell_type": "markdown",
   "metadata": {},
   "source": [
    "```\n",
    "conda env create -f environment.yml\n",
    "```\n"
   ]
  },
  {
   "cell_type": "markdown",
   "metadata": {},
   "source": [
    "Step 4 is to activate the environment that is created earlier. Activating this environment is a prerequisite for running the code of this book. To exit the environment, use the command `conda deactivate` (if the conda version is lower than 4.4, use the command `deactivate`)."
   ]
  },
  {
   "cell_type": "markdown",
   "metadata": {},
   "source": [
    "```\n",
    "# If the conda version is lower than 4.4, use the command `activate gluon`\n",
    "conda activate gluon\n",
    "```\n"
   ]
  },
  {
   "cell_type": "markdown",
   "metadata": {},
   "source": [
    "Step 5 is to open the Jupyter Notebook."
   ]
  },
  {
   "cell_type": "markdown",
   "metadata": {},
   "source": [
    "```\n",
    "jupyter notebook\n",
    "```\n"
   ]
  },
  {
   "cell_type": "markdown",
   "metadata": {},
   "source": [
    "At this point open http://localhost:8888 (usually automatically open) in the browser, then you can view and run the code in each section of the book.\n",
    "\n",
    "### Linux/macOS Users\n",
    "\n",
    "Step 1 is to download and install [Miniconda](https://conda.io/en/master/miniconda.html) according to the operating system in use. It is a sh file. Open the Terminal application and enter the command to execute the sh file, such as"
   ]
  },
  {
   "cell_type": "markdown",
   "metadata": {},
   "source": [
    "```\n",
    "# The file name is subject to change, always use the one downloaded from the\n",
    "# Miniconda website\n",
    "sh Miniconda3-latest-Linux-x86_64.sh\n",
    "```\n"
   ]
  },
  {
   "cell_type": "markdown",
   "metadata": {},
   "source": [
    "The terms of use will be displayed during installation. Press \"↓\" to continue reading, press \"Q\" to exit reading. After that, answer the following questions:"
   ]
  },
  {
   "cell_type": "markdown",
   "metadata": {},
   "source": [
    "```\n",
    "Do you accept the license terms? [yes|no]\n",
    "[no] >>> yes\n",
    "Do you wish the installer to prepend the Miniconda3 install location\n",
    "to PATH in your /home/your_name/your_file ? [yes|no]\n",
    "[no] >>> yes\n",
    "```\n"
   ]
  },
  {
   "cell_type": "markdown",
   "metadata": {},
   "source": [
    "After the installation is complete, conda should be made to take effect. Linux users need to run `source ~/.bashrc` or restart the command line application; macOS users need to run `source ~/.bash_profile` or restart the command line application.\n",
    "\n",
    "Step 2 is to download the compressed file containing the code of this book, and extract it into the folder. Run the following commands. For Linux users who do not install `unzip`, they can run the command `sudo apt install unzip` to install it."
   ]
  },
  {
   "cell_type": "markdown",
   "metadata": {},
   "source": [
    "```\n",
    "mkdir d2l-en && cd d2l-en\n",
    "curl https://www.d2l.ai/d2l-en-1.0.zip -o d2l-en.zip\n",
    "unzip d2l-en.zip && rm d2l-en.zip\n",
    "```\n"
   ]
  },
  {
   "cell_type": "markdown",
   "metadata": {},
   "source": [
    "For Step 3 to Step 5, refer to the such steps for Windows users as described earlier. If the conda version is lower than 4.4, replace the command in Step 4 with `source activate gluon` and exit the virtual environment using the command `source deactivate`.\n",
    "\n",
    "\n",
    "## Updating Code and Running Environment\n",
    "\n",
    "Since deep learning and MXNet grow fast, this open source book will be updated and released regularly. To update the open source content of this book (e.g., code) with corresponding running environment (e.g., MXNet of a later version), follow the steps below.\n",
    "\n",
    "Step 1 is to re-download the latest compressed file containing the code of this book. It is available at https://www.d2l.ai/d2l-en.zip. After extracting the zip file, enter the folder `d2l-en`.\n",
    "\n",
    "Step 2 is to update the running environment with the command"
   ]
  },
  {
   "cell_type": "markdown",
   "metadata": {},
   "source": [
    "```\n",
    "conda env update -f environment.yml\n",
    "```\n"
   ]
  },
  {
   "cell_type": "markdown",
   "metadata": {},
   "source": [
    "The subsequent steps for activating the environment and running Jupyter are the same as those described earlier.\n",
    "\n",
    "## GPU Support\n",
    "\n",
    "By default MXNet is installed without GPU support to ensure that it will run on any computer (including most laptops). Part of this book requires or recommends running with GPU. If your computer has NVIDIA graphics cards and has installed CUDA, you should modify the conda environment to download the CUDA enabled build.\n",
    "\n",
    "Step 1 is to uninstall MXNet without GPU support. If you have installed the virtual environment for running the book, you need to activate this environment then uninstall MXNet without GPU support:"
   ]
  },
  {
   "cell_type": "markdown",
   "metadata": {},
   "source": [
    "```\n",
    "pip uninstall mxnet\n",
    "```\n"
   ]
  },
  {
   "cell_type": "markdown",
   "metadata": {},
   "source": [
    "Then exit the virtual environment.\n",
    "\n",
    "Step 2 is to update the environment description in `environment.yml`.\n",
    "Likely, you'll want to replace `mxnet` by `mxnet-cu90`.\n",
    "The number following the hyphen (90 above)\n",
    "corresponds to the version of CUDA you installed).\n",
    "For instance, if you're on CUDA 8.0,\n",
    "you need to replace `mxnet-cu90` with `mxnet-cu80`.\n",
    "You should do this *before* creating the conda environment.\n",
    "Otherwise you will need to rebuild it later.\n",
    "\n",
    "Step 3 is to update the virtual environment. Run the command"
   ]
  },
  {
   "cell_type": "markdown",
   "metadata": {},
   "source": [
    "```\n",
    "conda env update -f environment.yml\n",
    "```\n"
   ]
  },
  {
   "cell_type": "markdown",
   "metadata": {},
   "source": [
    "Then we only need to activate the virtual environment to use MXNet with GPU support to run the book. Note that you need to repeat these 3 steps to use MXNet with GPU support if you download the updated code later.\n",
    "\n",
    "## Exercises\n",
    "\n",
    "1. Download the code for the book and install the runtime environment.\n",
    "\n",
    "\n",
    "## Scan the QR Code to [Discuss](https://discuss.mxnet.io/t/2315)\n",
    "\n",
    "![](../img/qr_install.svg)"
   ]
  }
 ],
 "metadata": {
  "language_info": {
   "name": "python"
  }
 },
 "nbformat": 4,
 "nbformat_minor": 2
}