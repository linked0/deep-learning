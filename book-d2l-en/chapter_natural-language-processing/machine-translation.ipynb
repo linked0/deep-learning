{
 "cells": [
  {
   "cell_type": "markdown",
   "metadata": {},
   "source": [
    "# Machine Translation\n",
    "\n",
    "Machine translation refers to the automatic translation of a segment of text from one language to another. Because a sequence of texts does not necessarily retain the same length in different languages, we use machine translation as an example to introduce the applications of the encoder-decoder and attention mechanism.\n",
    "\n",
    "## Read and Pre-process Data\n",
    "\n",
    "We will define some special symbols first. The “&lt;pad&gt;” (padding) symbol is added after a shorter sequence until each sequence is equal in length and the “&lt;bos&gt;” and “&lt;eos&gt;” symbols indicate the beginning and end of the sequence."
   ]
  },
  {
   "cell_type": "code",
   "execution_count": 1,
   "metadata": {
    "attributes": {
     "classes": [],
     "id": "",
     "n": "2"
    }
   },
   "outputs": [],
   "source": [
    "import collections\n",
    "import io\n",
    "import math\n",
    "from mxnet import autograd, gluon, init, nd\n",
    "from mxnet.contrib import text\n",
    "from mxnet.gluon import data as gdata, loss as gloss, nn, rnn\n",
    "\n",
    "PAD, BOS, EOS = '<pad>', '<bos>', '<eos>'"
   ]
  },
  {
   "cell_type": "markdown",
   "metadata": {},
   "source": [
    "Then, we define two auxiliary functions to preprocess the data to be read later."
   ]
  },
  {
   "cell_type": "code",
   "execution_count": 2,
   "metadata": {},
   "outputs": [],
   "source": [
    "# For a sequence, we record all the words in all_tokens in order to\n",
    "# subsequently construct the dictionary, then we add PAD after the sequence,\n",
    "# until the length becomes max_seq_len. Then, we record the sequence in\n",
    "# all_seqs\n",
    "def process_one_seq(seq_tokens, all_tokens, all_seqs, max_seq_len):\n",
    "    all_tokens.extend(seq_tokens)\n",
    "    seq_tokens += [EOS] + [PAD] * (max_seq_len - len(seq_tokens) - 1)\n",
    "    all_seqs.append(seq_tokens)\n",
    "\n",
    "# Use all the words to construct a dictionary. Construct an NDArray instance\n",
    "# after transforming the words in all sequences into a word index\n",
    "def build_data(all_tokens, all_seqs):\n",
    "    vocab = text.vocab.Vocabulary(collections.Counter(all_tokens),\n",
    "                                  reserved_tokens=[PAD, BOS, EOS])\n",
    "    indices = [vocab.to_indices(seq) for seq in all_seqs]\n",
    "    return vocab, nd.array(indices)"
   ]
  },
  {
   "cell_type": "markdown",
   "metadata": {},
   "source": [
    "For simplicity, we use a very small French-English data set here. In this data set, each line is a French sentence and its corresponding English sentence, separated by `'\\t'`. When reading data, we attach the “&lt;eos&gt;” symbol at the end of the sentence, and if necessary, make the length of each sequence `max_seq_len` by adding the “&lt;pad&gt;” symbol. We create separate dictionaries for French and English words. The index of French words and the index of the English words are independent of each other."
   ]
  },
  {
   "cell_type": "code",
   "execution_count": 3,
   "metadata": {
    "attributes": {
     "classes": [],
     "id": "",
     "n": "31"
    }
   },
   "outputs": [],
   "source": [
    "def read_data(max_seq_len):\n",
    "    # In and out are the abbreviations of input and output, respectively\n",
    "    in_tokens, out_tokens, in_seqs, out_seqs = [], [], [], []\n",
    "    with io.open('../data/fr-en-small.txt') as f:\n",
    "        lines = f.readlines()\n",
    "    for line in lines:\n",
    "        in_seq, out_seq = line.rstrip().split('\\t')\n",
    "        in_seq_tokens, out_seq_tokens = in_seq.split(' '), out_seq.split(' ')\n",
    "        # If a sequence is longer than the max_seq_len after adding EOS, this\n",
    "        # example will be ignored\n",
    "        if max(len(in_seq_tokens), len(out_seq_tokens)) > max_seq_len - 1:\n",
    "            continue\n",
    "        process_one_seq(in_seq_tokens, in_tokens, in_seqs, max_seq_len)\n",
    "        process_one_seq(out_seq_tokens, out_tokens, out_seqs, max_seq_len)\n",
    "    in_vocab, in_data = build_data(in_tokens, in_seqs)\n",
    "    out_vocab, out_data = build_data(out_tokens, out_seqs)\n",
    "    return in_vocab, out_vocab, gdata.ArrayDataset(in_data, out_data)"
   ]
  },
  {
   "cell_type": "markdown",
   "metadata": {},
   "source": [
    "Set the maximum length of the sequence to 7, then review the first example read. The example contains a French word index sequence and an English word index sequence."
   ]
  },
  {
   "cell_type": "code",
   "execution_count": 4,
   "metadata": {
    "attributes": {
     "classes": [],
     "id": "",
     "n": "181"
    }
   },
   "outputs": [
    {
     "data": {
      "text/plain": [
       "(\n",
       " [ 6.  5. 46.  4.  3.  1.  1.]\n",
       " <NDArray 7 @cpu(0)>, \n",
       " [ 9.  5. 28.  4.  3.  1.  1.]\n",
       " <NDArray 7 @cpu(0)>)"
      ]
     },
     "execution_count": 4,
     "metadata": {},
     "output_type": "execute_result"
    }
   ],
   "source": [
    "max_seq_len = 7\n",
    "in_vocab, out_vocab, dataset = read_data(max_seq_len)\n",
    "dataset[0]"
   ]
  },
  {
   "cell_type": "markdown",
   "metadata": {},
   "source": [
    "## Encoder-Decoder with Attention Mechanism\n",
    "\n",
    "We will use an encoder-decoder with an attention mechanism to translate a short French paragraph into English. Next, we will show how to implement the model.\n",
    "\n",
    "### Encoder\n",
    "\n",
    "In the encoder, we use the word embedding layer to obtain a feature index from the word index of the input language and then input it into a multi-level gated recurrent unit. As we mentioned in the [\"Concise Implementation of Recurrent Neural Networks\"](../chapter_recurrent-neural-networks/rnn-gluon.md) section, Gluon's `rnn.GRU` instance also returns the multi-layer hidden states of the output and final time steps after forward calculation. Here, the output refers to the hidden state of the hidden layer of the last layer at each time step, and it does not involve output layer calculation. The attention mechanism uses these output as key items and value items."
   ]
  },
  {
   "cell_type": "code",
   "execution_count": 5,
   "metadata": {
    "attributes": {
     "classes": [],
     "id": "",
     "n": "165"
    }
   },
   "outputs": [],
   "source": [
    "class Encoder(nn.Block):\n",
    "    def __init__(self, vocab_size, embed_size, num_hiddens, num_layers,\n",
    "                 drop_prob=0, **kwargs):\n",
    "        super(Encoder, self).__init__(**kwargs)\n",
    "        self.embedding = nn.Embedding(vocab_size, embed_size)\n",
    "        self.rnn = rnn.GRU(num_hiddens, num_layers, dropout=drop_prob)\n",
    "\n",
    "    def forward(self, inputs, state):\n",
    "        # The input shape is (batch size, number of time steps). Change the\n",
    "        # example dimension and time step dimension of the output\n",
    "        embedding = self.embedding(inputs).swapaxes(0, 1)\n",
    "        return self.rnn(embedding, state)\n",
    "\n",
    "    def begin_state(self, *args, **kwargs):\n",
    "        return self.rnn.begin_state(*args, **kwargs)"
   ]
  },
  {
   "cell_type": "markdown",
   "metadata": {},
   "source": [
    "Next, we will create a mini-batch sequence input with a batch size of 4 and 7 time steps. We assume the number of hidden layers of the gated recurrent unit is 2 and the number of hidden units is 16. The output shape returned by the encoder after performing forward calculation on the input is (number of time steps, batch size, number of hidden units). The shape of the multi-layer hidden state of the gated recurrent unit in the final time step is (number of hidden layers, batch size, number of hidden units). For the gated recurrent unit, the `state` list contains only one element, which is the hidden state. If long short-term memory is used, the `state` list will also contain another element, which is the memory cell."
   ]
  },
  {
   "cell_type": "code",
   "execution_count": 6,
   "metadata": {
    "attributes": {
     "classes": [],
     "id": "",
     "n": "166"
    }
   },
   "outputs": [
    {
     "data": {
      "text/plain": [
       "((7, 4, 16), (2, 4, 16))"
      ]
     },
     "execution_count": 6,
     "metadata": {},
     "output_type": "execute_result"
    }
   ],
   "source": [
    "encoder = Encoder(vocab_size=10, embed_size=8, num_hiddens=16, num_layers=2)\n",
    "encoder.initialize()\n",
    "output, state = encoder(nd.zeros((4, 7)), encoder.begin_state(batch_size=4))\n",
    "output.shape, state[0].shape"
   ]
  },
  {
   "cell_type": "markdown",
   "metadata": {},
   "source": [
    "### Attention Mechanism\n",
    "\n",
    "Before we introduce how to implement vectorization calculation for the attention mechanism, we will take a look at the `flatten` option for a `Dense` instance. When the input dimension is greater than 2, by default, the `Dense` instance will treat all dimensions other than the first dimension (example dimension) as feature dimensions that require affine transformation, and will automatically convert the input into a two-dimensional matrix with rows of behavioral examples and columns of features. After calculation, the shape of the output matrix is (number of examples, number of outputs). If we want the fully connected layer to only perform affine transformation on the last dimension of the input while keeping the shapes of the other dimensions unchanged, we need to set the `flatten` option of the `Dense` instance to `False`. In the following example, the fully connected layer only performs affine transformation on the last dimension of the input, therefore, only the last dimension of the output shape becomes the number of outputs of the fully connected layer, i.e. 2."
   ]
  },
  {
   "cell_type": "code",
   "execution_count": 7,
   "metadata": {},
   "outputs": [
    {
     "data": {
      "text/plain": [
       "(3, 5, 2)"
      ]
     },
     "execution_count": 7,
     "metadata": {},
     "output_type": "execute_result"
    }
   ],
   "source": [
    "dense = nn.Dense(2, flatten=False)\n",
    "dense.initialize()\n",
    "dense(nd.zeros((3, 5, 7))).shape"
   ]
  },
  {
   "cell_type": "markdown",
   "metadata": {},
   "source": [
    "We will implement the function $a$ defined in the [\"Attention Mechanism\"](./attention.md) section to transform the concatenated input through a multilayer perceptron with a single hidden layer. The input of the hidden layer is a one-to-one concatenation between the hidden state of the decoder and the hidden state of the encoder on all time steps, which uses tanh as the activation function. The number of outputs of the output layer is 1. Neither of the 2 `Dense` instances use a bias or flatten. Here, the length of the vector $\\boldsymbol{v}$ in the $a$ function definition is a hyper-parameter, i.e. `attention_size`."
   ]
  },
  {
   "cell_type": "code",
   "execution_count": 8,
   "metadata": {
    "attributes": {
     "classes": [],
     "id": "",
     "n": "167"
    }
   },
   "outputs": [],
   "source": [
    "def attention_model(attention_size):\n",
    "    model = nn.Sequential()\n",
    "    model.add(nn.Dense(attention_size, activation='tanh', use_bias=False,\n",
    "                       flatten=False),\n",
    "              nn.Dense(1, use_bias=False, flatten=False))\n",
    "    return model"
   ]
  },
  {
   "cell_type": "markdown",
   "metadata": {},
   "source": [
    "The inputs of the attention model include query items, key items, and value items. Assume the encoder and decoder have the same number of hidden units. The query item here is the hidden state of the decoder in the previous time step, with a shape of (batch size, number of hidden units); the key and the value items are the hidden states of the encoder at all time steps, with a shape of (number of time steps, batch size, number of hidden units). The attention model returns the context variable of the current time step, and the shape is (batch size, number of hidden units)."
   ]
  },
  {
   "cell_type": "code",
   "execution_count": 9,
   "metadata": {
    "attributes": {
     "classes": [],
     "id": "",
     "n": "168"
    }
   },
   "outputs": [],
   "source": [
    "def attention_forward(model, enc_states, dec_state):\n",
    "    # Broadcast the decoder hidden state to the same shape as the encoder\n",
    "    # hidden state and then perform concatenation\n",
    "    dec_states = nd.broadcast_axis(\n",
    "        dec_state.expand_dims(0), axis=0, size=enc_states.shape[0])\n",
    "    enc_and_dec_states = nd.concat(enc_states, dec_states, dim=2)\n",
    "    # The shape is (number of time steps, batch size, 1)\n",
    "    e = model(enc_and_dec_states)\n",
    "    # Perform the softmax operation on the time step dimension\n",
    "    alpha = nd.softmax(e, axis=0)\n",
    "    # This returns the context variable\n",
    "    return (alpha * enc_states).sum(axis=0)"
   ]
  },
  {
   "cell_type": "markdown",
   "metadata": {},
   "source": [
    "In the example below, the encoder has 10 time steps and a batch size of 4. Both the encoder and the decoder have 8 hidden units. The attention model returns a mini-batch of context vectors, and the length of each context vector is equal to the number of hidden units of the encoder. Therefore, the output shape is (4, 8)."
   ]
  },
  {
   "cell_type": "code",
   "execution_count": 10,
   "metadata": {
    "attributes": {
     "classes": [],
     "id": "",
     "n": "169"
    }
   },
   "outputs": [
    {
     "data": {
      "text/plain": [
       "(4, 8)"
      ]
     },
     "execution_count": 10,
     "metadata": {},
     "output_type": "execute_result"
    }
   ],
   "source": [
    "seq_len, batch_size, num_hiddens = 10, 4, 8\n",
    "model = attention_model(10)\n",
    "model.initialize()\n",
    "enc_states = nd.zeros((seq_len, batch_size, num_hiddens))\n",
    "dec_state = nd.zeros((batch_size, num_hiddens))\n",
    "attention_forward(model, enc_states, dec_state).shape"
   ]
  },
  {
   "cell_type": "markdown",
   "metadata": {},
   "source": [
    "### Decoder with Attention Mechanism\n",
    "\n",
    "We directly use the hidden state of the encoder in the final time step as the initial hidden state of the decoder. This requires that the encoder and decoder RNNs have the same numbers of layers and hidden units.\n",
    "\n",
    "In forward calculation of the decoder, we first calculate and obtain the context vector of the current time step by using the attention model introduced above. Since the input of the decoder comes from the word index of the output language, we obtain the feature expression of the input through the word embedding layer, and then concatenate the context vector in the feature dimension. We calculate the output and hidden state of the current time step through the gated recurrent unit, using the concatenated results and the hidden state of the previous time step. Finally, we use the fully connected layer to transform the output into predictions for each output word, with the shape of (batch size, output dictionary size)."
   ]
  },
  {
   "cell_type": "code",
   "execution_count": 11,
   "metadata": {
    "attributes": {
     "classes": [],
     "id": "",
     "n": "170"
    }
   },
   "outputs": [],
   "source": [
    "class Decoder(nn.Block):\n",
    "    def __init__(self, vocab_size, embed_size, num_hiddens, num_layers,\n",
    "                 attention_size, drop_prob=0, **kwargs):\n",
    "        super(Decoder, self).__init__(**kwargs)\n",
    "        self.embedding = nn.Embedding(vocab_size, embed_size)\n",
    "        self.attention = attention_model(attention_size)\n",
    "        self.rnn = rnn.GRU(num_hiddens, num_layers, dropout=drop_prob)\n",
    "        self.out = nn.Dense(vocab_size, flatten=False)\n",
    "\n",
    "    def forward(self, cur_input, state, enc_states):\n",
    "        # Use the attention mechanism to calculate the context vector\n",
    "        c = attention_forward(self.attention, enc_states, state[0][-1])\n",
    "        # The embedded input and the context vector are concatenated in the\n",
    "        # feature dimension\n",
    "        input_and_c = nd.concat(self.embedding(cur_input), c, dim=1)\n",
    "        # Add a time step dimension, with 1 time step, for the concatenation\n",
    "        # of the input and the context vector\n",
    "        output, state = self.rnn(input_and_c.expand_dims(0), state)\n",
    "        # Remove the time step dimension, so the output shape is (batch size,\n",
    "        # output dictionary size)\n",
    "        output = self.out(output).squeeze(axis=0)\n",
    "        return output, state\n",
    "\n",
    "    def begin_state(self, enc_state):\n",
    "        # Directly use the hidden state of the final time step of the encoder\n",
    "        # as the initial hidden state of the decoder.\n",
    "        return enc_state"
   ]
  },
  {
   "cell_type": "markdown",
   "metadata": {},
   "source": [
    "## Training\n",
    "\n",
    "We first implement the `batch_loss` function to calculate the loss of a mini-batch. The input of the decoder in the initial time step is the special character `BOS`. After that, the input of the decoder in a given time step is the word from the example output sequence in the previous time step, that is, teacher forcing. Also, just as in the implementation in the [\"Implementation of Word2vec\" ](word2vec-gluon.md) section, we also use mask variables here to avoid the impact of padding on loss function calculations."
   ]
  },
  {
   "cell_type": "code",
   "execution_count": 12,
   "metadata": {},
   "outputs": [],
   "source": [
    "def batch_loss(encoder, decoder, X, Y, loss):\n",
    "    batch_size = X.shape[0]\n",
    "    enc_state = encoder.begin_state(batch_size=batch_size)\n",
    "    enc_outputs, enc_state = encoder(X, enc_state)\n",
    "    # Initialize the hidden state of the decoder\n",
    "    dec_state = decoder.begin_state(enc_state)\n",
    "    # The input of decoder at the initial time step is BOS\n",
    "    dec_input = nd.array([out_vocab.token_to_idx[BOS]] * batch_size)\n",
    "    # We will use the mask variable to ignore the loss when the label is PAD\n",
    "    mask, num_not_pad_tokens = nd.ones(shape=(batch_size,)), 0\n",
    "    l = nd.array([0])\n",
    "    for y in Y.T:\n",
    "        dec_output, dec_state = decoder(dec_input, dec_state, enc_outputs)\n",
    "        l = l + (mask * loss(dec_output, y)).sum()\n",
    "        dec_input = y  # Use teacher forcing\n",
    "        num_not_pad_tokens += mask.sum().asscalar()\n",
    "        # When we encounter EOS, words after the sequence will all be PAD and\n",
    "        # the mask for the corresponding position is set to 0\n",
    "        mask = mask * (y != out_vocab.token_to_idx[EOS])\n",
    "    return l / num_not_pad_tokens"
   ]
  },
  {
   "cell_type": "markdown",
   "metadata": {},
   "source": [
    "In the training function, we need to update the model parameters of the encoder and the decoder at the same time."
   ]
  },
  {
   "cell_type": "code",
   "execution_count": 13,
   "metadata": {
    "attributes": {
     "classes": [],
     "id": "",
     "n": "188"
    }
   },
   "outputs": [],
   "source": [
    "def train(encoder, decoder, dataset, lr, batch_size, num_epochs):\n",
    "    encoder.initialize(init.Xavier(), force_reinit=True)\n",
    "    decoder.initialize(init.Xavier(), force_reinit=True)\n",
    "    enc_trainer = gluon.Trainer(encoder.collect_params(), 'adam',\n",
    "                                {'learning_rate': lr})\n",
    "    dec_trainer = gluon.Trainer(decoder.collect_params(), 'adam',\n",
    "                                {'learning_rate': lr})\n",
    "    loss = gloss.SoftmaxCrossEntropyLoss()\n",
    "    data_iter = gdata.DataLoader(dataset, batch_size, shuffle=True)\n",
    "    for epoch in range(num_epochs):\n",
    "        l_sum = 0.0\n",
    "        for X, Y in data_iter:\n",
    "            with autograd.record():\n",
    "                l = batch_loss(encoder, decoder, X, Y, loss)\n",
    "            l.backward()\n",
    "            enc_trainer.step(1)\n",
    "            dec_trainer.step(1)\n",
    "            l_sum += l.asscalar()\n",
    "        if (epoch + 1) % 10 == 0:\n",
    "            print(\"epoch %d, loss %.3f\" % (epoch + 1, l_sum / len(data_iter)))"
   ]
  },
  {
   "cell_type": "markdown",
   "metadata": {},
   "source": [
    "Next, we create a model instance and set hyper-parameters. Then, we can train the model."
   ]
  },
  {
   "cell_type": "code",
   "execution_count": 14,
   "metadata": {},
   "outputs": [
    {
     "name": "stdout",
     "output_type": "stream",
     "text": [
      "epoch 10, loss 0.607\n"
     ]
    },
    {
     "name": "stdout",
     "output_type": "stream",
     "text": [
      "epoch 20, loss 0.361\n"
     ]
    },
    {
     "name": "stdout",
     "output_type": "stream",
     "text": [
      "epoch 30, loss 0.177\n"
     ]
    },
    {
     "name": "stdout",
     "output_type": "stream",
     "text": [
      "epoch 40, loss 0.134\n"
     ]
    },
    {
     "name": "stdout",
     "output_type": "stream",
     "text": [
      "epoch 50, loss 0.040\n"
     ]
    }
   ],
   "source": [
    "embed_size, num_hiddens, num_layers = 64, 64, 2\n",
    "attention_size, drop_prob, lr, batch_size, num_epochs = 10, 0.5, 0.01, 2, 50\n",
    "encoder = Encoder(len(in_vocab), embed_size, num_hiddens, num_layers,\n",
    "                  drop_prob)\n",
    "decoder = Decoder(len(out_vocab), embed_size, num_hiddens, num_layers,\n",
    "                  attention_size, drop_prob)\n",
    "train(encoder, decoder, dataset, lr, batch_size, num_epochs)"
   ]
  },
  {
   "cell_type": "markdown",
   "metadata": {},
   "source": [
    "## Prediction\n",
    "\n",
    "We introduced three methods to generate the output of the decoder at each time step in the [\"Beam Search\"](beam-search.md) section. Here we implement the simplest method, greedy search."
   ]
  },
  {
   "cell_type": "code",
   "execution_count": 15,
   "metadata": {
    "attributes": {
     "classes": [],
     "id": "",
     "n": "177"
    }
   },
   "outputs": [],
   "source": [
    "def translate(encoder, decoder, input_seq, max_seq_len):\n",
    "    in_tokens = input_seq.split(' ')\n",
    "    in_tokens += [EOS] + [PAD] * (max_seq_len - len(in_tokens) - 1)\n",
    "    enc_input = nd.array([in_vocab.to_indices(in_tokens)])\n",
    "    enc_state = encoder.begin_state(batch_size=1)\n",
    "    enc_output, enc_state = encoder(enc_input, enc_state)\n",
    "    dec_input = nd.array([out_vocab.token_to_idx[BOS]])\n",
    "    dec_state = decoder.begin_state(enc_state)\n",
    "    output_tokens = []\n",
    "    for _ in range(max_seq_len):\n",
    "        dec_output, dec_state = decoder(dec_input, dec_state, enc_output)\n",
    "        pred = dec_output.argmax(axis=1)\n",
    "        pred_token = out_vocab.idx_to_token[int(pred.asscalar())]\n",
    "        # When an EOS symbol is found at any time step, the output sequence is\n",
    "        # complete\n",
    "        if pred_token == EOS:\n",
    "            break\n",
    "        else:\n",
    "            output_tokens.append(pred_token)\n",
    "            dec_input = pred\n",
    "    return output_tokens"
   ]
  },
  {
   "cell_type": "markdown",
   "metadata": {},
   "source": [
    "Simply test the model. Enter the French sentence \"ils regardent.\". The translated English sentence should be \"they are watching.\""
   ]
  },
  {
   "cell_type": "code",
   "execution_count": 16,
   "metadata": {},
   "outputs": [
    {
     "data": {
      "text/plain": [
       "['they', 'are', 'watching', '.']"
      ]
     },
     "execution_count": 16,
     "metadata": {},
     "output_type": "execute_result"
    }
   ],
   "source": [
    "input_seq = 'ils regardent .'\n",
    "translate(encoder, decoder, input_seq, max_seq_len)"
   ]
  },
  {
   "cell_type": "markdown",
   "metadata": {},
   "source": [
    "## Evaluation of Translation Results\n",
    "\n",
    "BLEU (Bilingual Evaluation Understudy) is often used to evaluate machine translation results[1]. For any subsequence in the model prediction sequence, BLEU evaluates whether this subsequence appears in the label sequence.\n",
    "\n",
    "Specifically, the precision of the subsequence with $n$ words is $p_n$. It is the ratio of the number of subsequences with $n$ matched words for the prediction sequence and label sequence to the number of subsequences with $n$ words in the prediction sequence. For example, assume the label sequence is $A$, $B$, $C$, $D$, $E$, $F$, and the prediction sequence is $A$, $B$, $B$, $C$, $D$. Then $p_1 = 4/5, \\ p_2 = 3/4, \\ p_3 = 1/3, and \\ p_4 = 0$. Assume $len_{\\text{label}}$ and $len_{\\text{pred}}$ are the numbers of words in the label sequence and the prediction sequence. Then, BLEU is defined as\n",
    "\n",
    "$$ \\exp\\left(\\min\\left(0, 1 - \\frac{len_{\\text{label}}}{len_{\\text{pred}}}\\right)\\right) \\prod_{n=1}^k p_n^{1/2^n},$$\n",
    "\n",
    "Here, $k$ is the maximum number of words in the subsequence we wish to match. It can be seen that the BLEU is 1 when the prediction sequence and the label sequence are identical.\n",
    "\n",
    "Because matching longer subsequences is more difficult than matching shorter subsequences, BLEU gives greater weight to the precision of longer subsequence matches. For example, when $p_n$ is fixed at 0.5, as $n$ increases, $0.5^{1/2} \\approx 0.7, 0.5^{1/4} \\approx 0.84, 0.5^{1/8} \\approx 0.92, and 0.5^{1/16} \\approx 0.96$. In addition, the prediction of shorter sequences by the model tends to obtain higher $p_n$ values. Therefore, the coefficient before the multiplication term in the above equation is a penalty to the shorter output. For example, when $k=2$, we assume the label sequence is $A$, $B$, $C$, $D$, $E$, $F$ and the prediction sequence is $A$, $B$. Although $p_1 = p_2 = 1$, the penalty factor is $\\exp(1-6/2) \\approx 0.14$, so the BLEU is also close to 0.14.\n",
    "\n",
    "Next, we calculate the BLEU"
   ]
  },
  {
   "cell_type": "code",
   "execution_count": 17,
   "metadata": {},
   "outputs": [],
   "source": [
    "def bleu(pred_tokens, label_tokens, k):\n",
    "    len_pred, len_label = len(pred_tokens), len(label_tokens)\n",
    "    score = math.exp(min(0, 1 - len_label / len_pred))\n",
    "    for n in range(1, k + 1):\n",
    "        num_matches = 0\n",
    "        for i in range(len_pred - n + 1):\n",
    "            if ' '.join(pred_tokens[i: i + n]) in ' '.join(label_tokens):\n",
    "                num_matches += 1\n",
    "        score *= math.pow(num_matches / (len_pred - n + 1), math.pow(0.5, n))\n",
    "    return score"
   ]
  },
  {
   "cell_type": "markdown",
   "metadata": {},
   "source": [
    "and define an auxiliary printing function."
   ]
  },
  {
   "cell_type": "code",
   "execution_count": 18,
   "metadata": {},
   "outputs": [],
   "source": [
    "def score(input_seq, label_seq, k):\n",
    "    pred_tokens = translate(encoder, decoder, input_seq, max_seq_len)\n",
    "    label_tokens = label_seq.split(' ')\n",
    "    print('bleu %.3f, predict: %s' % (bleu(pred_tokens, label_tokens, k),\n",
    "                                      ' '.join(pred_tokens)))"
   ]
  },
  {
   "cell_type": "markdown",
   "metadata": {},
   "source": [
    "A correct prediction receives a score of 1."
   ]
  },
  {
   "cell_type": "code",
   "execution_count": 19,
   "metadata": {},
   "outputs": [
    {
     "name": "stdout",
     "output_type": "stream",
     "text": [
      "bleu 1.000, predict: they are watching .\n"
     ]
    }
   ],
   "source": [
    "score('ils regardent .', 'they are watching .', k=2)"
   ]
  },
  {
   "cell_type": "markdown",
   "metadata": {},
   "source": [
    "Test an example that is not in the training set."
   ]
  },
  {
   "cell_type": "code",
   "execution_count": 20,
   "metadata": {},
   "outputs": [
    {
     "name": "stdout",
     "output_type": "stream",
     "text": [
      "bleu 0.658, predict: they are actors .\n"
     ]
    }
   ],
   "source": [
    "score('ils sont canadiens .', 'they are canadian .', k=2)"
   ]
  },
  {
   "cell_type": "markdown",
   "metadata": {},
   "source": [
    "## Summary\n",
    "\n",
    "* We can apply encoder-decoder and attention mechanisms to machine translation.\n",
    "* BLEU can be used to evaluate translation results.\n",
    "\n",
    "## Exercises\n",
    "\n",
    "* If the encoder and decoder have different number of hidden units or layers, how can we improve the decoder's hidden state initialization method?\n",
    "* During training, we experiment by replacing \"teacher forcing\" with the output of the decoder at the previous time step as the input of the decoder at the current time step. Has the result changed?\n",
    "* Try to train the model with larger translation data sets, such as WMT[2] and Tatoeba Project[3].\n",
    "\n",
    "\n",
    "\n",
    "## Reference\n",
    "\n",
    "[1] Papineni, K., Roukos, S., Ward, T., & Zhu, W. J. (2002, July). BLEU: a method for automatic evaluation of machine translation. In Proceedings of the 40th annual meeting on association for computational linguistics (pp. 311-318). Association for Computational Linguistics.\n",
    "\n",
    "[2] WMT. http://www.statmt.org/wmt14/translation-task.html\n",
    "\n",
    "[3] Tatoeba Project. http://www.manythings.org/anki/\n",
    "\n",
    "## Scan the QR Code to [Discuss](https://discuss.mxnet.io/t/2396)\n",
    "\n",
    "![](../img/qr_machine-translation.svg)"
   ]
  }
 ],
 "metadata": {
  "language_info": {
   "name": "python"
  }
 },
 "nbformat": 4,
 "nbformat_minor": 2
}