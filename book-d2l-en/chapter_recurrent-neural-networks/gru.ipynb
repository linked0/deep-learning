{
 "cells": [
  {
   "cell_type": "markdown",
   "metadata": {},
   "source": [
    "# Gated Recurrent Unit (GRU)\n",
    "\n",
    "@TODO(smolix/astonzhang): the data set was just changed from lyrics to time machine, so descriptions/hyperparameters have to change.\n",
    "\n",
    "In the previous section, we discussed gradient calculation methods in recurrent neural networks. We found that, when the number of time steps is large or the time step is small, the gradients in recurrent neural networks are prone to vanishing or explosion. Although gradient clipping can cope with gradient explosion, it cannot solve the vanishing gradient problem. Therefore, it is generally quite difficult to capture dependencies for time series with large time step distances during the actual use of recurrent neural networks.\n",
    "\n",
    "Gated recurrent neural networks were proposed as a way to better capture dependencies for time series with large time step distances. Such a network uses learnable gates to control the flow of information. One common type of gated recurrent neural network is a gated recurrent unit (GRU) [1, 2]. Another common type of gated recurrent neural network is discussed in the next section.\n",
    "\n",
    "\n",
    "## Gated Recurrent Units\n",
    "\n",
    "In what follows, we will discuss the design of GRUs. These networks introduce the reset gate and update gate concepts to change the method used to calculate hidden states in recurrent neural networks.\n",
    "\n",
    "### Reset Gates and Update Gates\n",
    "\n",
    "As shown in Figure 6.4, the inputs for both reset gates and update gates in GRU are the current time step input $\\boldsymbol{X}_t$ and the hidden state of the previous time step $\\boldsymbol{H}_{t-1}$. The output is computed by the fully connected layer with a sigmoid function as its activation function.\n",
    "\n",
    "\n",
    "![ Reset and update gate computation in a GRU. ](../img/gru_1.svg)\n",
    "\n",
    "\n",
    "Here, we assume there are $h$ hidden units and, for a given time step $t$, the mini-batch input is $\\boldsymbol{X}_t \\in \\mathbb{R}^{n \\times d}$ (number of examples: $n$, number of inputs: $d$）and the hidden state of the last time step is $\\boldsymbol{H}_{t-1} \\in \\mathbb{R}^{n \\times h}$. Then, the reset gate $\\boldsymbol{R}_t \\in \\mathbb{R}^{n \\times h}$ and update gate $\\boldsymbol{Z}_t \\in \\mathbb{R}^{n \\times h}$ computation is as follows:\n",
    "\n",
    "$$\n",
    "\\begin{aligned}\n",
    "\\boldsymbol{R}_t = \\sigma(\\boldsymbol{X}_t \\boldsymbol{W}_{xr} + \\boldsymbol{H}_{t-1} \\boldsymbol{W}_{hr} + \\boldsymbol{b}_r),\\\\\n",
    "\\boldsymbol{Z}_t = \\sigma(\\boldsymbol{X}_t \\boldsymbol{W}_{xz} + \\boldsymbol{H}_{t-1} \\boldsymbol{W}_{hz} + \\boldsymbol{b}_z),\n",
    "\\end{aligned}\n",
    "$$\n",
    "\n",
    "Here, $\\boldsymbol{W}_{xr}, \\boldsymbol{W}_{xz} \\in \\mathbb{R}^{d \\times h}$ and $\\boldsymbol{W}_{hr}, \\boldsymbol{W}_{hz} \\in \\mathbb{R}^{h \\times h}$ are weight parameters and $\\boldsymbol{b}_r, \\boldsymbol{b}_z \\in \\mathbb{R}^{1 \\times h}$ is a bias parameter. As described in the [\"Multilayer Perceptron\"](../chapter_deep-learning-basics/mlp.md) section, a sigmoid function can transform element values between 0 and 1. Therefore, the range of each element in the reset gate $\\boldsymbol{R}_t$ and update gate $\\boldsymbol{Z}_t$ is $[0, 1]$.\n",
    "\n",
    "### Candidate Hidden States\n",
    "\n",
    "Next, the GRU computes candidate hidden states to facilitate subsequent hidden state computation. As shown in Figure 6.5, we perform multiplication by element between the current time step reset gate output and previous time step hidden state (symbol: $\\odot$). If the element value in the reset gate approaches 0, this means that it resets the value of the corresponding hidden state element to 0, discarding the hidden state from the previous time step. If the element value approaches 1, this indicates that the hidden state from the previous time step is retained. Then, the result of multiplication by element is concatenated with the current time step input to compute candidate hidden states in a fully connected layer with a tanh activation function. The range of all element values is $[-1, 1]$.\n",
    "\n",
    "![ Candidate hidden state computation in a GRU. Here, the multiplication sign indicates multiplication by element. ](../img/gru_2.svg)\n",
    "\n",
    "For time step $t$, the candidate hidden state $\\tilde{\\boldsymbol{H}}_t \\in \\mathbb{R}^{n \\times h}$ is computed by the following formula:\n",
    "\n",
    "$$\\tilde{\\boldsymbol{H}}_t = \\text{tanh}(\\boldsymbol{X}_t \\boldsymbol{W}_{xh} + \\left(\\boldsymbol{R}_t \\odot \\boldsymbol{H}_{t-1}\\right) \\boldsymbol{W}_{hh} + \\boldsymbol{b}_h),$$\n",
    "\n",
    "Here, $\\boldsymbol{W}_{xh} \\in \\mathbb{R}^{d \\times h}$ and $\\boldsymbol{W}_{hh} \\in \\mathbb{R}^{h \\times h}$ are weight parameters and $\\boldsymbol{b}_h \\in \\mathbb{R}^{1 \\times h}$ is a bias parameter. From the formula above, we can see that the reset gate controls how the hidden state of the previous time step enters into the candidate hidden state of the current time step. In addition, the hidden state of the previous time step may contain all historical information of the time series up to the previous time step. Thus, the reset gate can be used to discard historical information that has no bearing on predictions.\n",
    "\n",
    "### Hidden States\n",
    "\n",
    "Finally, the computation of the hidden state $\\boldsymbol{H}_t \\in \\mathbb{R}^{n \\times h}$ for time step $t$ uses the current time step's update gate $\\boldsymbol{Z}_t$ to combine the previous time step hidden state $\\boldsymbol{H}_{t-1}$ and current time step candidate hidden state $\\tilde{\\boldsymbol{H}}_t$:\n",
    "\n",
    "$$\\boldsymbol{H}_t = \\boldsymbol{Z}_t \\odot \\boldsymbol{H}_{t-1}  + (1 - \\boldsymbol{Z}_t) \\odot \\tilde{\\boldsymbol{H}}_t.$$\n",
    "\n",
    "\n",
    "![ Hidden state computation in a GRU. Here, the multiplication sign indicates multiplication by element. ](../img/gru_3.svg)\n",
    "\n",
    "\n",
    "It should be noted that update gates can control how hidden states should be updated by candidate hidden states containing current time step information, as shown in Figure 6.6. Here, we assume that the update gate is always approximately 1 between the time steps $t'$ and $t$ ($t' < t$). Therefore, the input information between the time steps $t'$ and $t$ almost never enters the hidden state $\\boldsymbol{H}_t$ for time step $t$. In fact, we can think of it like this: The hidden state of an earlier time $\\boldsymbol{H}_{t'-1}$ is saved over time and passed to the current time step $t$. This design can cope with the vanishing gradient problem in recurrent neural networks and better capture dependencies for time series with large time step distances.\n",
    "\n",
    "We can summarize the design of GRUs as follows:\n",
    "\n",
    "* Reset gates help capture short-term dependencies in time series.\n",
    "* Update gates help capture long-term dependencies in time series.\n",
    "\n",
    "## Read the Data Set\n",
    "\n",
    "To implement and display a GRU, we will again use the Jay Chou lyrics data set to train the model to compose song lyrics. The implementation, except for the GRU, has already been described in the [\"Recurrent Neural Network\"](rnn.md) section. The code for reading the data set is given below:"
   ]
  },
  {
   "cell_type": "code",
   "execution_count": 1,
   "metadata": {
    "attributes": {
     "classes": [],
     "id": "",
     "n": "1"
    }
   },
   "outputs": [],
   "source": [
    "import sys\n",
    "sys.path.insert(0, '..')\n",
    "\n",
    "import d2l\n",
    "from mxnet import nd\n",
    "from mxnet.gluon import rnn\n",
    "\n",
    "(corpus_indices, char_to_idx, idx_to_char,\n",
    " vocab_size) = d2l.load_data_time_machine()"
   ]
  },
  {
   "cell_type": "markdown",
   "metadata": {},
   "source": [
    "## Implementation from Scratch\n",
    "\n",
    "We will start by showing how to implement a GRU from scratch.\n",
    "\n",
    "### Initialize Model Parameters\n",
    "\n",
    "The code below initializes the model parameters. The hyper-parameter `num_hiddens` defines the number of hidden units."
   ]
  },
  {
   "cell_type": "code",
   "execution_count": 2,
   "metadata": {
    "attributes": {
     "classes": [],
     "id": "",
     "n": "2"
    }
   },
   "outputs": [],
   "source": [
    "num_inputs, num_hiddens, num_outputs = vocab_size, 256, vocab_size\n",
    "ctx = d2l.try_gpu()\n",
    "\n",
    "def get_params():\n",
    "    def _one(shape):\n",
    "        return nd.random.normal(scale=0.01, shape=shape, ctx=ctx)\n",
    "\n",
    "    def _three():\n",
    "        return (_one((num_inputs, num_hiddens)),\n",
    "                _one((num_hiddens, num_hiddens)),\n",
    "                nd.zeros(num_hiddens, ctx=ctx))\n",
    "\n",
    "    W_xz, W_hz, b_z = _three()  # Update gate parameter\n",
    "    W_xr, W_hr, b_r = _three()  # Reset gate parameter\n",
    "    W_xh, W_hh, b_h = _three()  # Candidate hidden state parameter\n",
    "    # Output layer parameters\n",
    "    W_hq = _one((num_hiddens, num_outputs))\n",
    "    b_q = nd.zeros(num_outputs, ctx=ctx)\n",
    "    # Create gradient\n",
    "    params = [W_xz, W_hz, b_z, W_xr, W_hr, b_r, W_xh, W_hh, b_h, W_hq, b_q]\n",
    "    for param in params:\n",
    "        param.attach_grad()\n",
    "    return params"
   ]
  },
  {
   "cell_type": "markdown",
   "metadata": {},
   "source": [
    "### Define the Model\n",
    "\n",
    "Now we will define the hidden state initialization function `init_gru_state`. Just like the `init_rnn_state` function defined in the [\"Implementation of the Recurrent Neural Network from Scratch\"](rnn-scratch.md) section, this function returns a tuple composed of an NDArray with a shape (batch size, number of hidden units) value of 0."
   ]
  },
  {
   "cell_type": "code",
   "execution_count": 3,
   "metadata": {
    "attributes": {
     "classes": [],
     "id": "",
     "n": "3"
    }
   },
   "outputs": [],
   "source": [
    "def init_gru_state(batch_size, num_hiddens, ctx):\n",
    "    return (nd.zeros(shape=(batch_size, num_hiddens), ctx=ctx), )"
   ]
  },
  {
   "cell_type": "markdown",
   "metadata": {},
   "source": [
    "Below, we define the model based on GRU computing expressions."
   ]
  },
  {
   "cell_type": "code",
   "execution_count": 4,
   "metadata": {
    "attributes": {
     "classes": [],
     "id": "",
     "n": "4"
    }
   },
   "outputs": [],
   "source": [
    "def gru(inputs, state, params):\n",
    "    W_xz, W_hz, b_z, W_xr, W_hr, b_r, W_xh, W_hh, b_h, W_hq, b_q = params\n",
    "    H, = state\n",
    "    outputs = []\n",
    "    for X in inputs:\n",
    "        Z = nd.sigmoid(nd.dot(X, W_xz) + nd.dot(H, W_hz) + b_z)\n",
    "        R = nd.sigmoid(nd.dot(X, W_xr) + nd.dot(H, W_hr) + b_r)\n",
    "        H_tilda = nd.tanh(nd.dot(X, W_xh) + nd.dot(R * H, W_hh) + b_h)\n",
    "        H = Z * H + (1 - Z) * H_tilda\n",
    "        Y = nd.dot(H, W_hq) + b_q\n",
    "        outputs.append(Y)\n",
    "    return outputs, (H,)"
   ]
  },
  {
   "cell_type": "markdown",
   "metadata": {},
   "source": [
    "### Train the Model and Write Lyrics\n",
    "\n",
    "During model training, we only use adjacent examples. After setting the hyper-parameters, we train and model and create a 50 character string of lyrics based on the prefixes \"separate\" and \"not separated\"."
   ]
  },
  {
   "cell_type": "code",
   "execution_count": 5,
   "metadata": {
    "attributes": {
     "classes": [],
     "id": "",
     "n": "5"
    }
   },
   "outputs": [],
   "source": [
    "num_epochs, num_steps, batch_size, lr, clipping_theta = 160, 35, 32, 1e2, 1e-2\n",
    "pred_period, pred_len, prefixes = 40, 50, ['traveller', 'time traveller']"
   ]
  },
  {
   "cell_type": "markdown",
   "metadata": {},
   "source": [
    "We create a string of lyrics based on the currently trained model every 40 epochs."
   ]
  },
  {
   "cell_type": "code",
   "execution_count": 6,
   "metadata": {},
   "outputs": [
    {
     "name": "stdout",
     "output_type": "stream",
     "text": [
      "epoch 40, perplexity 7.580616, time 0.71 sec\n",
      " - traveller and the timensions of the timensions of the timen\n",
      " - time traveller and the timensions of the timensions of the timen\n"
     ]
    },
    {
     "name": "stdout",
     "output_type": "stream",
     "text": [
      "epoch 80, perplexity 3.392240, time 0.70 sec\n",
      " - traveller.  'but i have a lear expor the persully contracie\n",
      " - time traveller.  'but a can all time. to time traveller.  'but a\n"
     ]
    },
    {
     "name": "stdout",
     "output_type": "stream",
     "text": [
      "epoch 120, perplexity 1.417647, time 0.69 sec\n",
      " - traveller. 'you constious, asmimentatival intimunsion geome\n",
      " - time traveller.  'you can show black is white by are didencive m\n"
     ]
    },
    {
     "name": "stdout",
     "output_type": "stream",
     "text": [
      "epoch 160, perplexity 1.176267, time 0.72 sec\n",
      " - traveller.  'you can show black is white by argument,' said\n",
      " - time traveller held in his hand was a glittering metallic framew\n"
     ]
    }
   ],
   "source": [
    "d2l.train_and_predict_rnn(gru, get_params, init_gru_state, num_hiddens,\n",
    "                          vocab_size, ctx, corpus_indices, idx_to_char,\n",
    "                          char_to_idx, False, num_epochs, num_steps, lr,\n",
    "                          clipping_theta, batch_size, pred_period, pred_len,\n",
    "                          prefixes)"
   ]
  },
  {
   "cell_type": "markdown",
   "metadata": {},
   "source": [
    "## Concise Implementation\n",
    "\n",
    "In Gluon, we can directly call the `GRU` class in the `rnn` module."
   ]
  },
  {
   "cell_type": "code",
   "execution_count": 7,
   "metadata": {
    "attributes": {
     "classes": [],
     "id": "",
     "n": "6"
    }
   },
   "outputs": [
    {
     "name": "stdout",
     "output_type": "stream",
     "text": [
      "epoch 40, perplexity 7.817558, time 0.05 sec\n",
      " - traveller the the the the the the the the the the the the t\n",
      " - time traveller the the the the the the the the the the the the t\n"
     ]
    },
    {
     "name": "stdout",
     "output_type": "stream",
     "text": [
      "epoch 80, perplexity 3.831711, time 0.05 sec\n",
      " - traveller the time traveller that they the gromensions of s\n",
      " - time traveller three-dimensions of space a conntly on and dine i\n"
     ]
    },
    {
     "name": "stdout",
     "output_type": "stream",
     "text": [
      "epoch 120, perplexity 1.554918, time 0.05 sec\n",
      " - traveller, atwer three-dimensional stired by you buck for i\n",
      " - time traveller.  'you can show black is wain. 'y somit weally he\n"
     ]
    },
    {
     "name": "stdout",
     "output_type": "stream",
     "text": [
      "epoch 160, perplexity 1.150713, time 0.05 sec\n",
      " - traveller he mans have leeg por dilaninit by any of the dim\n",
      " - time traveller a fourth dimension of space and time, as the flon\n"
     ]
    }
   ],
   "source": [
    "gru_layer = rnn.GRU(num_hiddens)\n",
    "model = d2l.RNNModel(gru_layer, vocab_size)\n",
    "d2l.train_and_predict_rnn_gluon(model, num_hiddens, vocab_size, ctx,\n",
    "                                corpus_indices, idx_to_char, char_to_idx,\n",
    "                                num_epochs, num_steps, lr, clipping_theta,\n",
    "                                batch_size, pred_period, pred_len, prefixes)"
   ]
  },
  {
   "cell_type": "markdown",
   "metadata": {},
   "source": [
    "## Summary\n",
    "\n",
    "* Gated recurrent neural networks can better capture dependencies for time series with large time step distances.\n",
    "* GRUs introduce the reset gate and update gate concepts to change the method used to calculate hidden states in recurrent neural networks. They include reset gates, update gates, candidate hidden states, and hidden states.\n",
    "* Reset gates help capture short-term dependencies in time series.\n",
    "* Update gates help capture long-term dependencies in time series.\n",
    "\n",
    "\n",
    "## Exercises\n",
    "\n",
    "* Assume that time step $t' < t$. If we only want to use the input for time step $t'$ to predict the output at time step $t$, what are the best values for the reset and update gates for each time step?\n",
    "* Adjust the hyper-parameters and observe and analyze the impact on running time, perplexity, and the written lyrics.\n",
    "* Compare the running times of a GRU and ungated recurrent neural network under the same conditions.\n",
    "\n",
    "## References\n",
    "\n",
    "[1] Cho, K., Van Merriënboer, B., Bahdanau, D., & Bengio, Y. (2014). On the properties of neural machine translation: Encoder-decoder approaches. arXiv preprint arXiv:1409.1259.\n",
    "\n",
    "[2] Chung, J., Gulcehre, C., Cho, K., & Bengio, Y. (2014). Empirical evaluation of gated recurrent neural networks on sequence modeling. arXiv preprint arXiv:1412.3555.\n",
    "\n",
    "## Scan the QR Code to [Discuss](https://discuss.mxnet.io/t/2367)\n",
    "\n",
    "![](../img/qr_gru.svg)"
   ]
  }
 ],
 "metadata": {
  "language_info": {
   "name": "python"
  }
 },
 "nbformat": 4,
 "nbformat_minor": 2
}