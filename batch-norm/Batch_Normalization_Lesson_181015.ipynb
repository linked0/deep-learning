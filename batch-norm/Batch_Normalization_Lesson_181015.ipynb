{
 "cells": [
  {
   "cell_type": "markdown",
   "metadata": {
    "colab_type": "text",
    "id": "view-in-github"
   },
   "source": [
    "<a href=\"https://colab.research.google.com/github/linked0/deep-learning/blob/master/batch-norm/Batch_Normalization_Lesson_181015.ipynb\" target=\"_parent\"><img src=\"https://colab.research.google.com/assets/colab-badge.svg\" alt=\"Open In Colab\"/></a>"
   ]
  },
  {
   "cell_type": "code",
   "execution_count": 1,
   "metadata": {
    "colab": {
     "base_uri": "https://localhost:8080/",
     "height": 34
    },
    "colab_type": "code",
    "id": "VBhtZtCVSd6r",
    "outputId": "eb6881a5-f7f8-45c8-9d55-6f72d4201940"
   },
   "outputs": [
    {
     "name": "stdout",
     "output_type": "stream",
     "text": [
      "Requirement already satisfied: tqdm in /usr/local/lib/python3.6/dist-packages (4.28.1)\n"
     ]
    }
   ],
   "source": [
    "!pip install tqdm"
   ]
  },
  {
   "cell_type": "code",
   "execution_count": 2,
   "metadata": {
    "colab": {
     "base_uri": "https://localhost:8080/",
     "height": 68
    },
    "colab_type": "code",
    "id": "Q3psD_V9S__9",
    "outputId": "b9fa895d-f7ce-40a9-94eb-15e3a888f06b"
   },
   "outputs": [
    {
     "name": "stdout",
     "output_type": "stream",
     "text": [
      "anscombe.json\t\t      mnist_test.csv\n",
      "california_housing_test.csv   mnist_train_small.csv\n",
      "california_housing_train.csv  README.md\n"
     ]
    }
   ],
   "source": [
    "!ls sample_data"
   ]
  },
  {
   "cell_type": "code",
   "execution_count": 1,
   "metadata": {
    "colab": {
     "base_uri": "https://localhost:8080/",
     "height": 530
    },
    "colab_type": "code",
    "id": "Y24eoYgHTG2D",
    "outputId": "15cb132e-f12b-4c02-ad35-774309cc0cb8"
   },
   "outputs": [
    {
<<<<<<< HEAD
     "name": "stdout",
     "output_type": "stream",
     "text": [
      "Successfully downloaded train-images-idx3-ubyte.gz 9912422 bytes.\n",
      "Extracting MNIST_data/train-images-idx3-ubyte.gz\n",
      "Successfully downloaded train-labels-idx1-ubyte.gz 28881 bytes.\n",
      "Extracting MNIST_data/train-labels-idx1-ubyte.gz\n",
      "Successfully downloaded t10k-images-idx3-ubyte.gz 1648877 bytes.\n",
      "Extracting MNIST_data/t10k-images-idx3-ubyte.gz\n",
      "Successfully downloaded t10k-labels-idx1-ubyte.gz 4542 bytes.\n",
      "Extracting MNIST_data/t10k-labels-idx1-ubyte.gz\n"
     ]
    }
   ],
   "source": [
    "# Import necessary packages\n",
    "import tensorflow as tf\n",
    "import tqdm\n",
    "import numpy as np\n",
    "import matplotlib.pyplot as plt\n",
    "%matplotlib inline\n",
    "\n",
    "# Import MNIST data so we have something for out experiments\n",
    "from tensorflow.examples.tutorials.mnist import input_data\n",
    "mnist = input_data.read_data_sets('MNIST_data/', one_hot=True)"
   ]
  },
  {
   "cell_type": "code",
   "execution_count": 2,
   "metadata": {
    "colab": {},
    "colab_type": "code",
    "collapsed": true,
    "id": "fz4kdtRbZXPq"
   },
   "outputs": [],
   "source": [
    "class NeuralNet:\n",
    "  def __init__(self, initial_weights, activation_fn, use_batch_norm):\n",
    "    # Keep track of whether or not this network uses batch normalization.\n",
    "    self.use_batch_norm = use_batch_norm\n",
    "    self.name = 'With Batch Norm' if use_batch_norm else 'Without Batch Norm'\n",
    "    \n",
    "    # Batch normalization needs to do different calculations during training and inference,\n",
    "    # so we use this placeholder to tell the graph which behavior to use.\n",
    "    self.is_training = tf.placeholder(tf.bool, name='is_training')\n",
    "    \n",
    "    self.training_accuracies = []\n",
    "    \n",
    "    self.build_network(initial_weights, activation_fn)\n",
    "    \n",
    "  def build_network(self, initial_weights, activation_fn):\n",
    "    self.input_layer = tf.placeholder(tf.float32, [None, initial_weights[0].shape[0]])\n",
    "    layer_in = self.input_layer\n",
    "    for weights in initial_weights[:-1]:\n",
    "      layer_in = self.fully_connected(layer_in, weights, activation_fn)\n",
    "    self.output_layer = self.fully_connected(layer_in, initial_weights[-1])\n",
    "  \n",
    "  def fully_connected(self, layer_in, initial_weights, activation_fn=None):\n",
    "    if self.use_batch_norm and activation_fn:\n",
    "      weights = tf.Variable(initial_weights)\n",
    "      linear_output = tf.matmul(layer_in, weights)\n",
    "      \n",
    "      batch_normalized_output = tf.layers.batch_normalization(linear_output, training=self.is_training)\n",
    "      \n",
    "      return activation_fn(batch_normalized_output)\n",
    "    \n",
    "    else:\n",
    "      weights = tf.Variable(initial_weights)\n",
    "      biases = tf.Variable(tf.zeros([initial_weights.shape[-1]]))\n",
    "      linear_output = tf.add(tf.matmul(layer_in, weights), biases)\n",
    "      return linear_output if not activation_fn else activation_fn(linear_output)\n",
    "    \n",
    "  def train(self, session, learning_rate, training_batches, batches_per_sample, save_model_as=None):\n",
    "    \"\"\"\n",
    "    Trains the model on the MNIST training dataset\n",
    "    \n",
    "    :param session: SEssion\n",
    "      Used to run training graph operation\n",
    "    :param learning_rate: float\n",
    "      Learning rate used during gradient descent.\n",
    "    :param training_batches: int\n",
    "      Number of batches to train.\n",
    "    :param batches_per_sample: int\n",
    "      How many batches to train before sampling the validation accuracy.\n",
    "    :param save_model_as: string or None (default None)\n",
    "      Name to use if you want to save the trained model.\n",
    "    \"\"\"\n",
    "    \n",
    "    # This placeholder will store the target labels for each mini batch\n",
    "    labels = tf.placeholder(tf.float32, [None, 10])\n",
    "    \n",
    "    # Define loass and optimizaer\n",
    "    cross_entropy = tf.reduce_mean(\n",
    "      tf.nn.softmax_cross_entropy_with_logits(labels=labels, logits=self.output_layer))\n",
    "    \n",
    "    # Define operation for testing\n",
    "    correct_prediction = tf.equal(tf.argmax(self.output_layer, 1), tf.argmax(labels, 1))\n",
    "    accuracy = tf.reduce_mean(tf.cast(correct_prediction, tf.float32))\n",
    "    \n",
    "    if self.use_batch_norm:\n",
    "      with tf.control_dependencies(tf.get_collection(tf.GraphKeys.UPDATE_OPS)):\n",
    "        train_step = tf.train.GradientDescentOptimizer(learning_rate).minimize(cross_entropy)\n",
    "    else:\n",
    "      train_step = tf.train.GradientDescentOptimizer(learning_rate).minimize(cross_entropy)\n",
    "    \n",
    "    # Train for the appropriate number of batches. (tqdm is only for a nice timing display)\n",
    "    for i in tqdm.tqdm(range(training_batches)):\n",
    "      # We use batches of 60 just because the original paper did. You can use any size batch you like\n",
    "      batch_xs, batch_ys = mnist.train.next_batch(60)\n",
    "      session.run(train_step, feed_dict={self.input_layer: batch_xs,\n",
    "                                        labels: batch_ys,\n",
    "                                        self.is_training: True})\n",
    "      \n",
    "      # Periodically test accuracy against the 5k validation images and store it for plotting later.\n",
    "      if i % batches_per_sample == 0:\n",
    "        test_accuracy = session.run(accuracy, feed_dict={self.input_layer: mnist.validation.images,\n",
    "                                                        labels: mnist.validation.labels,\n",
    "                                                        self.is_training: False})\n",
    "        self.training_accuracies.append(test_accuracy)\n",
    "        \n",
    "    # After training, report accuracy against test data\n",
    "    test_accuracy = session.run(accuracy, feed_dict={self.input_layer: mnist.validation.images,\n",
    "                                                    labels: mnist.validation.labels,\n",
    "                                                    self.is_training: False})\n",
    "    print('{}: After training, fanal accuracy on validaion set = {}'.format(self.name, test_accuracy))\n",
    "    \n",
    "    # If you want to use this model later for inference instead of having to retrain it,\n",
    "    # just construct it with the same parameters and then pass this file to the 'test' function\n",
    "    if save_model_as:\n",
    "      tf.train.Saver().save(session, save_model_as)\n",
    "    \n",
    "  def test(self, session, test_training_accuracy=False, include_individual_predictions=False, restore_from=None):\n",
    "    \"\"\"\n",
    "    Trains a trained model on the MNIST testing dataset.\n",
    "    \n",
    "    :param session: Session\n",
    "      Used to run the testing graph operations.\n",
    "    :param test_training_accurcay: bool (default False)\n",
    "      If True, perform inference with batch normalization using batch mean and varicance;\n",
    "      if False, perform inference with batch nomalization using estimated population mean and variance.\n",
    "      Note: in real life, *always* perform inference using the population mean and variance\n",
    "        This parameter exists just to support demostrating what happens if you don't\n",
    "    :param include_individual_predictions: bool (default True)\n",
    "    :param restore_from: string or None (default None)\n",
    "      Name of a saved model if you want to test with previously saved weights.\n",
    "    \"\"\"\n",
    "    # This placeholder will store the true labels for each mini batch\n",
    "    labels = tf.placeholder(tf.float32, [None, 10])\n",
    "    \n",
    "    # Define operations for testing\n",
    "    correct_prediction = tf.equal(tf.argmax(self.output_layer, 1), tf.argmax(labels, 1))\n",
    "    accuracy = tf.reduce_mean(tf.cast(correct_prediction, tf.float32))\n",
    "    \n",
    "    # If proveded, restore from a previously saved model\n",
    "    if restore_from:\n",
    "      tf.train.Saver().restore(session, restore_from)\n",
    "      \n",
    "    # Test against all of the MNIST test data\n",
    "    test_accuracy = session.run(accuracy, feed_dict={self.input_layer: mnist.test.images,\n",
    "                                                    labels: mnist.test.labels,\n",
    "                                                    self.is_training: test_training_accuracy})\n",
    "    print('-'*75)\n",
    "    print('{}: Accuracy on full test set = {}'.format(self.name, test_accuracy))\n",
    "    \n",
    "    # If requested, perform tests predicting individual values rather than batches\n",
    "    if include_individual_predictions:\n",
    "      predictions = []\n",
    "      correct = 0\n",
    "      \n",
    "      # Do 200 predictions, 1 at a time\n",
    "      for i in range(200):\n",
    "        # This is a normal prediction using an individual test case. However, notice\n",
    "        # we pass 'test_training_accuracy' to 'feed_dict' as the value for 'self.is_training'.\n",
    "        # Remember that will tell it whether it should use the batch mean & variance or\n",
    "        # the populatio estimates that were calculated while training the model\n",
    "        pred, corr = session.run([tf.arg_max(self.output_layer, 1), accuracy],\n",
    "                                feed_dict={self.input_layer: [mnist.test.images[i]],\n",
    "                                          labels:[mnint.test.labels[i]],\n",
    "                                          self.is_traing: test_training_accuracy})\n",
    "        correst += corr\n",
    "        predictions.append(pred[0])\n",
    "      print('200 Predcitions:', predictions)\n",
    "      print('Accuracy on 200 samples:', correct/200)\n",
    "  \n",
    "    \n",
    "    "
   ]
  },
  {
   "cell_type": "markdown",
   "metadata": {
    "colab_type": "text",
    "id": "BkCoDaf1JqrE"
   },
   "source": [
    "# Batch Normalization Demos"
   ]
  },
  {
   "cell_type": "markdown",
   "metadata": {
    "colab_type": "text",
    "id": "Lw6GENwgJywf"
   },
   "source": [
    "## Code to support testing\n",
    "The following two functions support the demos we run in the notebook.\n",
    "The first function, `plot_training_accuracies`, simply plots the values found in the `training_accuracies` lists of the NeuralNet objects passed to it. If you look at the `train` function in `NerualNet`, you'll see it that while it's training the network, it periodically measures validation accuracy and stores the results in that list. It does that just to support these plots.\n",
    "\n",
    "The second function, `train_and_test`, creates two neural nts - one with and one without batch normalization. It then trains them both and tests them, calling `plot_training_accuracies` to plot how their accuracies changed over the course tof training. The really important thing about this function is that it initializes the starting weights for the networks outside of the networks and then passes them in. This lets it train both networks from the exact same starting weights, which eliminates performance differences that might result from (un) lucky initial weights."
   ]
  },
  {
   "cell_type": "code",
   "execution_count": 0,
   "metadata": {
    "colab": {},
    "colab_type": "code",
    "collapsed": true,
    "id": "f-_gi10IJYoD"
   },
   "outputs": [],
   "source": [
    "## Code to support testing"
   ]
  },
  {
   "cell_type": "code",
   "execution_count": 15,
   "metadata": {
    "colab": {},
    "colab_type": "code",
    "collapsed": true,
    "id": "GjgoAmYnJYoF"
   },
   "outputs": [],
   "source": [
    "def plot_training_accuracies(*args, **kwargs):\n",
    "    \"\"\"\n",
    "    Displays a plot of the accuracies calculated during training to demonstrate\n",
    "    how many iterations it took for the model(s) to converge.\n",
    "    \n",
    "    :param args: One or more NeuralNet objects\n",
    "        You can supply any number of NeuralNet objects as unnamed arguments \n",
    "        and this will display their training accuracies. Be sure to call `train` \n",
    "        the NeuralNets before calling this function.\n",
    "    :param kwargs: \n",
    "        You can supply any named parameters here, but `batches_per_sample` is the only\n",
    "        one we look for. It should match the `batches_per_sample` value you passed\n",
    "        to the `train` function.\n",
    "    \"\"\"\n",
    "    fig, ax = plt.subplots()\n",
    "\n",
    "    batches_per_sample = kwargs['batches_per_sample']\n",
    "    \n",
    "    for nn in args:\n",
    "        ax.plot(range(0,len(nn.training_accuracies)*batches_per_sample,batches_per_sample),\n",
    "                nn.training_accuracies, label=nn.name)\n",
    "    ax.set_xlabel('Training steps')\n",
    "    ax.set_ylabel('Accuracy')\n",
    "    ax.set_title('Validation Accuracy During Training')\n",
    "    ax.legend(loc=4)\n",
    "    ax.set_ylim([0,1])\n",
    "    plt.yticks(np.arange(0, 1.1, 0.1))\n",
    "    plt.grid(True)\n",
    "    plt.show()\n",
    "    \n",
    "def train_and_test(use_bad_weights, learning_rate, activation_fn, training_batches=50000, batches_per_sample=500):\n",
    "  \"\"\"\n",
    "  Creates two networks, one with and one without batch normalization, then trains them\n",
    "  with identical strating weights, layers, batches, etc. Finally tests and plots their accuracies.\n",
    "  \"\"\"\n",
    "  \n",
    "  if use_bad_weights:\n",
    "    weights = [np.random.normal(size=(784,100), scale=5.0).astype(np.float32),\n",
    "              np.random.normal(size=(100,100), scale=5.0).astype(np.float32),\n",
    "              np.random.normal(size=(100,100), scale=5.0).astype(np.float32),\n",
    "              np.random.normal(size=(100,10), scale=5.0).astype(np.float32)]\n",
    "  else:\n",
    "    weights = [np.random.normal(size=(784,100), scale=0.05).astype(np.float32), \n",
    "              np.random.normal(size=(100,100), scale=0.05).astype(np.float32),\n",
    "              np.random.normal(size=(100,100), scale=0.05).astype(np.float32),\n",
    "              np.random.normal(size=(100,10), scale=0.05).astype(np.float32)]\n",
    "  \n",
    "  # Just to make sure the TensorFlow's default graph i empty before we start another\n",
    "  # test, because we don't bother using different graphs or scoping and naming\n",
    "  # elements carefully in this sample code.\n",
    "  tf.reset_default_graph()\n",
    "  \n",
    "  # build two versions of same network, 1 without and 1 with batch normalization\n",
    "  nn = NeuralNet(weights, activation_fn, False)\n",
    "  bn = NeuralNet(weights, activation_fn, True)\n",
    "  \n",
    "  # train and test the two models\n",
    "  with tf.Session() as sess:\n",
    "    tf.global_variables_initializer().run()\n",
    "    \n",
    "    nn.train(sess, learning_rate, training_batches, batches_per_sample)\n",
    "    bn.train(sess, learning_rate, training_batches, batches_per_sample)\n",
    "    \n",
    "    nn.test(sess)\n",
    "    bn.test(sess)\n",
    "    \n",
    "  plot_training_accuracies(nn, bn, batches_per_sample=batches_per_sample)"
   ]
  },
  {
   "cell_type": "markdown",
   "metadata": {
    "colab_type": "text",
    "id": "14FRqeetQ_49"
   },
   "source": [
    "## Comparisions between identical networks, with and without batch normalization\n",
    "The next series of cells train networks with various settings to show the differences with and without batch normalization. They are meant to clearly demonstrate the effects of batch normalization. We include a deeper discussion of batch normalization later in the notebook."
   ]
  },
  {
   "cell_type": "markdown",
   "metadata": {
    "colab_type": "text",
    "id": "467Kn7UuRVRC"
   },
   "source": [
    "### The following creates two networks using a ReLU activation function, a learning rate of 0.01, and reasonable starting weights"
   ]
  },
  {
   "cell_type": "code",
   "execution_count": 16,
   "metadata": {
    "colab": {
     "base_uri": "https://localhost:8080/",
     "height": 678
=======
      "metadata": {
        "colab_type": "code",
        "id": "VBhtZtCVSd6r",
        "outputId": "b6f89499-b3f3-4602-ef46-422b6dcdff5d",
        "colab": {
          "base_uri": "https://localhost:8080/",
          "height": 34
        }
      },
      "cell_type": "code",
      "source": [
        "!pip install tqdm"
      ],
      "execution_count": 1,
      "outputs": [
        {
          "output_type": "stream",
          "text": [
            "Requirement already satisfied: tqdm in /usr/local/lib/python3.6/dist-packages (4.28.1)\n"
          ],
          "name": "stdout"
        }
      ]
>>>>>>> f4a9a1842ccedfc761667c80168f82477423d887
    },
    "colab_type": "code",
    "id": "gaiSxEkYQ1Tj",
    "outputId": "b962f1dc-f741-46fc-b4ee-50a9c1bb8ab2"
   },
   "outputs": [
    {
<<<<<<< HEAD
     "name": "stderr",
     "output_type": "stream",
     "text": [
      "100%|██████████| 50000/50000 [01:16<00:00, 656.72it/s]\n"
     ]
    },
    {
     "name": "stdout",
     "output_type": "stream",
     "text": [
      "Without Batch Norm: After training, fanal accuracy on validaion set = 0.973800003528595\n"
     ]
=======
      "metadata": {
        "colab_type": "code",
        "id": "Q3psD_V9S__9",
        "outputId": "796dfe3a-0ef2-41ef-b593-ea7c9201e4fe",
        "colab": {
          "base_uri": "https://localhost:8080/",
          "height": 68
        }
      },
      "cell_type": "code",
      "source": [
        "!ls sample_data"
      ],
      "execution_count": 2,
      "outputs": [
        {
          "output_type": "stream",
          "text": [
            "anscombe.json\t\t      mnist_test.csv\n",
            "california_housing_test.csv   mnist_train_small.csv\n",
            "california_housing_train.csv  README.md\n"
          ],
          "name": "stdout"
        }
      ]
    },
    {
      "metadata": {
        "id": "Kl9msouGeGot",
        "colab_type": "code",
        "colab": {
          "base_uri": "https://localhost:8080/",
          "height": 34
        },
        "outputId": "df7463df-1e51-4aad-ab10-8349fbefb129"
      },
      "cell_type": "code",
      "source": [
        "# Import necessary packages\n",
        "import tensorflow as tf\n",
        "import tqdm\n",
        "import numpy as np\n",
        "import matplotlib.pyplot as plt\n",
        "%matplotlib inline\n",
        "%config InlineBackend.close_figures=False\n",
        "%reload_ext autoreload\n",
        "%autoreload 2\n",
        "%pylab inline"
      ],
      "execution_count": 20,
      "outputs": [
        {
          "output_type": "stream",
          "text": [
            "Populating the interactive namespace from numpy and matplotlib\n"
          ],
          "name": "stdout"
        }
      ]
    },
    {
      "metadata": {
        "colab_type": "code",
        "id": "Y24eoYgHTG2D",
        "outputId": "c08cf431-e51d-4e90-c551-ed25a2293100",
        "colab": {
          "base_uri": "https://localhost:8080/",
          "height": 530
        }
      },
      "cell_type": "code",
      "source": [
        "# Import MNIST data so we have something for out experiments\n",
        "from tensorflow.examples.tutorials.mnist import input_data\n",
        "mnist = input_data.read_data_sets('MNIST_data/', one_hot=True)"
      ],
      "execution_count": 3,
      "outputs": [
        {
          "output_type": "stream",
          "text": [
            "WARNING:tensorflow:From <ipython-input-3-1e203c4f90fa>:9: read_data_sets (from tensorflow.contrib.learn.python.learn.datasets.mnist) is deprecated and will be removed in a future version.\n",
            "Instructions for updating:\n",
            "Please use alternatives such as official/mnist/dataset.py from tensorflow/models.\n",
            "WARNING:tensorflow:From /usr/local/lib/python3.6/dist-packages/tensorflow/contrib/learn/python/learn/datasets/mnist.py:260: maybe_download (from tensorflow.contrib.learn.python.learn.datasets.base) is deprecated and will be removed in a future version.\n",
            "Instructions for updating:\n",
            "Please write your own downloading logic.\n",
            "WARNING:tensorflow:From /usr/local/lib/python3.6/dist-packages/tensorflow/contrib/learn/python/learn/datasets/base.py:252: _internal_retry.<locals>.wrap.<locals>.wrapped_fn (from tensorflow.contrib.learn.python.learn.datasets.base) is deprecated and will be removed in a future version.\n",
            "Instructions for updating:\n",
            "Please use urllib or similar directly.\n",
            "Successfully downloaded train-images-idx3-ubyte.gz 9912422 bytes.\n",
            "WARNING:tensorflow:From /usr/local/lib/python3.6/dist-packages/tensorflow/contrib/learn/python/learn/datasets/mnist.py:262: extract_images (from tensorflow.contrib.learn.python.learn.datasets.mnist) is deprecated and will be removed in a future version.\n",
            "Instructions for updating:\n",
            "Please use tf.data to implement this functionality.\n",
            "Extracting MNIST_data/train-images-idx3-ubyte.gz\n",
            "Successfully downloaded train-labels-idx1-ubyte.gz 28881 bytes.\n",
            "WARNING:tensorflow:From /usr/local/lib/python3.6/dist-packages/tensorflow/contrib/learn/python/learn/datasets/mnist.py:267: extract_labels (from tensorflow.contrib.learn.python.learn.datasets.mnist) is deprecated and will be removed in a future version.\n",
            "Instructions for updating:\n",
            "Please use tf.data to implement this functionality.\n",
            "Extracting MNIST_data/train-labels-idx1-ubyte.gz\n",
            "WARNING:tensorflow:From /usr/local/lib/python3.6/dist-packages/tensorflow/contrib/learn/python/learn/datasets/mnist.py:110: dense_to_one_hot (from tensorflow.contrib.learn.python.learn.datasets.mnist) is deprecated and will be removed in a future version.\n",
            "Instructions for updating:\n",
            "Please use tf.one_hot on tensors.\n",
            "Successfully downloaded t10k-images-idx3-ubyte.gz 1648877 bytes.\n",
            "Extracting MNIST_data/t10k-images-idx3-ubyte.gz\n",
            "Successfully downloaded t10k-labels-idx1-ubyte.gz 4542 bytes.\n",
            "Extracting MNIST_data/t10k-labels-idx1-ubyte.gz\n",
            "WARNING:tensorflow:From /usr/local/lib/python3.6/dist-packages/tensorflow/contrib/learn/python/learn/datasets/mnist.py:290: DataSet.__init__ (from tensorflow.contrib.learn.python.learn.datasets.mnist) is deprecated and will be removed in a future version.\n",
            "Instructions for updating:\n",
            "Please use alternatives such as official/mnist/dataset.py from tensorflow/models.\n"
          ],
          "name": "stdout"
        }
      ]
>>>>>>> f4a9a1842ccedfc761667c80168f82477423d887
    },
    {
     "name": "stderr",
     "output_type": "stream",
     "text": [
      "100%|██████████| 50000/50000 [03:43<00:00, 223.22it/s]\n"
     ]
    },
    {
     "name": "stdout",
     "output_type": "stream",
     "text": [
      "With Batch Norm: After training, fanal accuracy on validaion set = 0.9815999865531921\n",
      "---------------------------------------------------------------------------\n",
      "Without Batch Norm: Accuracy on full test set = 0.9725000262260437\n",
      "---------------------------------------------------------------------------\n",
      "With Batch Norm: Accuracy on full test set = 0.9782000184059143\n"
     ]
    },
    {
     "data": {
      "image/png": "iVBORw0KGgoAAAANSUhEUgAAAYUAAAEWCAYAAACJ0YulAAAABHNCSVQICAgIfAhkiAAAAAlwSFlz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\nQcHMzCoOCmZmVvkL5FLwzRAKOekAAAAASUVORK5CYII=\n",
      "text/plain": [
       "<Figure size 432x288 with 1 Axes>"
      ]
     },
     "metadata": {},
     "output_type": "display_data"
    }
   ],
   "source": [
    "train_and_test(False, 0.01, tf.nn.relu)"
   ]
  },
  {
   "cell_type": "code",
   "execution_count": 18,
   "metadata": {},
   "outputs": [
    {
<<<<<<< HEAD
     "name": "stderr",
     "output_type": "stream",
     "text": [
      "100%|██████████| 2000/2000 [00:04<00:00, 452.46it/s]\n"
     ]
    },
    {
     "name": "stdout",
     "output_type": "stream",
     "text": [
      "Without Batch Norm: After training, fanal accuracy on validaion set = 0.8435999751091003\n"
     ]
=======
      "metadata": {
        "id": "X33U35o9a5ft",
        "colab_type": "text"
      },
      "cell_type": "markdown",
      "source": [
        "## Code to support testing"
      ]
    },
    {
      "metadata": {
        "id": "GjgoAmYnJYoF",
        "colab_type": "code",
        "colab": {}
      },
      "cell_type": "code",
      "source": [
        "def plot_training_accuracies(*args, **kwargs):\n",
        "  \"\"\"\n",
        "  Display a plot of the accuracies calculated during training to demonstrate how many iterations it took for the model(s) to converge.\n",
        "  \"\"\"\n",
        "  fig, ax = plt.subplots()\n",
        "  batches_per_sample = kwargs['batches_per_sample']\n",
        "  \n",
        "  for nn in args:\n",
        "    ax.plot(range(0, len(nn.training_accuracies)*batches_per_sample, batches_per_sample),\n",
        "            nn.training_accuracies, label=nn.name)\n",
        "    ax.set_xlabel('Training steps')\n",
        "    ax.set_ylabel('Accuracy')\n",
        "    ax.set_title('Validation Accuracy During Training')\n",
        "    ax.legend(loc=4)\n",
        "    ax.set_ylim([0,1])\n",
        "    plt.yticks(np.arange(0, 1.1, 0.1))\n",
        "    plt.grid(True)\n",
        "    plt.show()\n",
        "    \n",
        "def train_and_test(use_bad_weights, learning_rate, activation_fn, training_batches=50000, batches_per_sample=500):\n",
        "  \"\"\"\n",
        "  Creates two networks, one with and one without batch normalization, then trains them\n",
        "  with identical strating weights, layers, batches, etc. Finally tests and plots their accuracies.\n",
        "  \"\"\"\n",
        "  \n",
        "  if use_bad_weights:\n",
        "    weights = [np.random.normal(size=(784,100), scale=5.0).astype(np.float32),\n",
        "              np.random.normal(size=(100,100), scale=5.0).astype(np.float32),\n",
        "              np.random.normal(size=(100,100), scale=5.0).astype(np.float32),\n",
        "              np.random.normal(size=(100,10), scale=5.0).astype(np.float32)]\n",
        "  else:\n",
        "    weights = [np.random.normal(size=(784,100), scale=0.5).astype(np.float32), \n",
        "              np.random.normal(size=(100,100), scale=0.5).astype(np.float32),\n",
        "              np.random.normal(size=(100,100), scale=0.5).astype(np.float32),\n",
        "              np.random.normal(size=(100,10), scale=0.5).astype(np.float32)]\n",
        "  \n",
        "  # Just to make sure the TensorFlow's default graph i empty before we start another\n",
        "  # test, because we don't bother using different graphs or scoping and naming\n",
        "  # elements carefully in this sample code.\n",
        "  tf.reset_default_graph()\n",
        "  \n",
        "  # build two versions of same network, 1 without and 1 with batch normalization\n",
        "  nn = NeuralNet(weights, activation_fn, False)\n",
        "  bn = NeuralNet(weights, activation_fn, True)\n",
        "  \n",
        "  # train and test the two models\n",
        "  with tf.Session() as sess:\n",
        "    tf.global_variables_initializer().run()\n",
        "    \n",
        "    nn.train(sess, learning_rate, training_batches, batches_per_sample)\n",
        "    bn.train(sess, learning_rate, training_batches, batches_per_sample)\n",
        "    \n",
        "    nn.test(sess)\n",
        "    bn.test(sess)\n",
        "    \n",
        "  plot_training_accuracies(nn, bn, batches_per_sample=batches_per_sample)"
      ],
      "execution_count": 0,
      "outputs": []
>>>>>>> f4a9a1842ccedfc761667c80168f82477423d887
    },
    {
     "name": "stderr",
     "output_type": "stream",
     "text": [
      "100%|██████████| 2000/2000 [00:11<00:00, 180.48it/s]\n"
     ]
    },
    {
     "name": "stdout",
     "output_type": "stream",
     "text": [
      "With Batch Norm: After training, fanal accuracy on validaion set = 0.9534000158309937\n",
      "---------------------------------------------------------------------------\n",
      "Without Batch Norm: Accuracy on full test set = 0.8345000147819519\n",
      "---------------------------------------------------------------------------\n",
      "With Batch Norm: Accuracy on full test set = 0.9491999745368958\n"
     ]
    },
    {
<<<<<<< HEAD
     "data": {
      "image/png": "iVBORw0KGgoAAAANSUhEUgAAAYcAAAEWCAYAAACNJFuYAAAABHNCSVQICAgIfAhkiAAAAAlwSFlz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\n4zitcOfgOI7jtMKdg+M4jtOK/wdNlngwkZY8nQAAAABJRU5ErkJggg==\n",
      "text/plain": [
       "<Figure size 432x288 with 1 Axes>"
=======
      "metadata": {
        "id": "gaiSxEkYQ1Tj",
        "colab_type": "code",
        "outputId": "ba9a7edf-5c63-4b8f-b03a-10082ba4baba",
        "colab": {
          "base_uri": "https://localhost:8080/",
          "height": 707
        }
      },
      "cell_type": "code",
      "source": [
        "train_and_test(False, 0.01, tf.nn.relu)"
      ],
      "execution_count": 21,
      "outputs": [
        {
          "output_type": "stream",
          "text": [
            "100%|██████████| 50000/50000 [01:57<00:00, 424.93it/s]\n"
          ],
          "name": "stderr"
        },
        {
          "output_type": "stream",
          "text": [
            "Without Batch Norm: After training, fanal accuracy on validaion set = 0.9413999915122986\n"
          ],
          "name": "stdout"
        },
        {
          "output_type": "stream",
          "text": [
            "100%|██████████| 50000/50000 [04:37<00:00, 180.08it/s]\n"
          ],
          "name": "stderr"
        },
        {
          "output_type": "stream",
          "text": [
            "With Batch Norm: After training, fanal accuracy on validaion set = 0.9466000199317932\n",
            "---------------------------------------------------------------------------\n",
            "Without Batch Norm: Accuracy on full test set = 0.9319000244140625\n",
            "---------------------------------------------------------------------------\n",
            "With Batch Norm: Accuracy on full test set = 0.942300021648407\n"
          ],
          "name": "stdout"
        },
        {
          "output_type": "display_data",
          "data": {
            "image/png": "iVBORw0KGgoAAAANSUhEUgAAAYIAAAEVCAYAAADtmeJyAAAABHNCSVQICAgIfAhkiAAAAAlwSFlz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\nxucsERhjjM9ZIjDGGJ+zRGCMMT73/wH17RlKySHaogAAAABJRU5ErkJggg==\n",
            "text/plain": [
              "<matplotlib.figure.Figure at 0x7f3ff660ee80>"
            ]
          },
          "metadata": {
            "tags": []
          }
        },
        {
          "output_type": "display_data",
          "data": {
            "image/png": "iVBORw0KGgoAAAANSUhEUgAAAYIAAAEVCAYAAADtmeJyAAAABHNCSVQICAgIfAhkiAAAAAlwSFlz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\n",
            "text/plain": [
              "<matplotlib.figure.Figure at 0x7f3ff660ee80>"
            ]
          },
          "metadata": {
            "tags": []
          }
        }
>>>>>>> f4a9a1842ccedfc761667c80168f82477423d887
      ]
     },
     "metadata": {},
     "output_type": "display_data"
    }
   ],
   "source": [
    "train_and_test(False, 0.01, tf.nn.relu, 2000, 50)"
   ]
  },
  {
   "cell_type": "code",
   "execution_count": null,
   "metadata": {
    "collapsed": true
   },
   "outputs": [],
   "source": []
  }
 ],
 "metadata": {
  "accelerator": "GPU",
  "colab": {
   "include_colab_link": true,
   "name": "Batch_Normalization_Lesson_181015.ipynb",
   "provenance": [],
   "version": "0.3.2"
  },
  "kernelspec": {
   "display_name": "Python 3",
   "language": "python",
   "name": "python3"
  },
  "language_info": {
   "codemirror_mode": {
    "name": "ipython",
    "version": 3
   },
   "file_extension": ".py",
   "mimetype": "text/x-python",
   "name": "python",
   "nbconvert_exporter": "python",
   "pygments_lexer": "ipython3",
   "version": "3.6.1"
  }
 },
 "nbformat": 4,
 "nbformat_minor": 1
}
