{
  "nbformat": 4,
  "nbformat_minor": 0,
  "metadata": {
    "colab": {
      "name": "Intro_to_GANs_Exercises.ipynb",
      "version": "0.3.2",
      "provenance": []
    },
    "kernelspec": {
      "display_name": "Python 3",
      "language": "python",
      "name": "python3"
    },
    "accelerator": "GPU"
  },
  "cells": [
    {
      "metadata": {
        "id": "krbzMVp7zjqk",
        "colab_type": "code",
        "colab": {
          "base_uri": "https://localhost:8080/",
          "height": 238
        },
        "outputId": "b38eaf56-08da-452a-ea9c-25b6870b727b"
      },
      "cell_type": "code",
      "source": [
        "repo='dlnd-deep-learning'\n",
        "url='https://github.com/linked0/dlnd-deep-learning.git'\n",
        "sub_dir='gan_mnist'\n",
        "!mkdir $repo\n",
        "%cd $repo\n",
        "!git init\n",
        "!git remote add -f origin $url\n",
        "!git config core.sparsecheckout true\n",
        "\n",
        "!echo $sub_dir >> .git/info/sparse-checkout\n",
        "!git pull --recurse-submodules origin master\n",
        "%cd $sub_dir"
      ],
      "execution_count": 1,
      "outputs": [
        {
          "output_type": "stream",
          "text": [
            "/content/dlnd-deep-learning\n",
            "Initialized empty Git repository in /content/dlnd-deep-learning/.git/\n",
            "Updating origin\n",
            "remote: Counting objects: 248, done.\u001b[K\n",
            "remote: Compressing objects: 100% (208/208), done.\u001b[K\n",
            "remote: Total 248 (delta 28), reused 238 (delta 25), pack-reused 0\u001b[K\n",
            "Receiving objects: 100% (248/248), 36.57 MiB | 20.17 MiB/s, done.\n",
            "Resolving deltas: 100% (28/28), done.\n",
            "From https://github.com/linked0/dlnd-deep-learning\n",
            " * [new branch]      master     -> origin/master\n",
            "From https://github.com/linked0/dlnd-deep-learning\n",
            " * branch            master     -> FETCH_HEAD\n",
            "/content/dlnd-deep-learning/gan_mnist\n"
          ],
          "name": "stdout"
        }
      ]
    },
    {
      "metadata": {
        "id": "gJhYfHTUKZiu",
        "colab_type": "code",
        "colab": {
          "base_uri": "https://localhost:8080/",
          "height": 51
        },
        "outputId": "9ef198b5-9466-4f64-d6af-e5ef2a58f5f4"
      },
      "cell_type": "code",
      "source": [
        "!ls"
      ],
      "execution_count": 51,
      "outputs": [
        {
          "output_type": "stream",
          "text": [
            "assets\t     Intro_to_GANs_Exercises.ipynb  MNIST_data\r\n",
            "checkpoints  Intro_to_GANs_Solution.ipynb   train_samples.pkl\r\n"
          ],
          "name": "stdout"
        }
      ]
    },
    {
      "metadata": {
        "id": "2ktSEytDdRIJ",
        "colab_type": "code",
        "colab": {
          "base_uri": "https://localhost:8080/",
          "height": 119
        },
        "outputId": "02a65ce9-be2f-41f5-e8da-5389232f6b21"
      },
      "cell_type": "code",
      "source": [
        "!tar -cvzf checkpoints.tar.gz checkpoints"
      ],
      "execution_count": 54,
      "outputs": [
        {
          "output_type": "stream",
          "text": [
            "checkpoints/\r\n",
            "checkpoints/.gitignore\r\n",
            "checkpoints/generator.ckpt.index\r\n",
            "checkpoints/generator.ckpt.data-00000-of-00001\n",
            "checkpoints/checkpoint\n",
            "checkpoints/generator.ckpt.meta\n"
          ],
          "name": "stdout"
        }
      ]
    },
    {
      "metadata": {
        "id": "vDlgpAxDNsOy",
        "colab_type": "code",
        "colab": {
          "base_uri": "https://localhost:8080/",
          "height": 34
        },
        "outputId": "f882d5e7-cf07-49c3-bb2f-65b73d4dfe02"
      },
      "cell_type": "code",
      "source": [
        "%cd gan_mnist"
      ],
      "execution_count": 6,
      "outputs": [
        {
          "output_type": "stream",
          "text": [
            "/content/dlnd-deep-learning/gan_mnist\n"
          ],
          "name": "stdout"
        }
      ]
    },
    {
      "metadata": {
        "id": "2ZWRj2JhL3xj",
        "colab_type": "code",
        "colab": {
          "base_uri": "https://localhost:8080/",
          "height": 17
        },
        "outputId": "b103da75-6b9b-4d7b-c6b8-34ba8e5b33b5"
      },
      "cell_type": "code",
      "source": [
        "from google.colab import files\n",
        "files.download('checkpoints.tar.gz')"
      ],
      "execution_count": 55,
      "outputs": []
    },
    {
      "metadata": {
        "id": "FA8XUWb1zikd",
        "colab_type": "text"
      },
      "cell_type": "markdown",
      "source": [
        "# Generative Adversarial Network\n",
        "\n",
        "In this notebook, we'll be building a generative adversarial network (GAN) trained on the MNIST dataset. From this, we'll be able to generate new handwritten digits!\n",
        "\n",
        "GANs were [first reported on](https://arxiv.org/abs/1406.2661) in 2014 from Ian Goodfellow and others in Yoshua Bengio's lab. Since then, GANs have exploded in popularity. Here are a few examples to check out:\n",
        "\n",
        "* [Pix2Pix](https://affinelayer.com/pixsrv/) \n",
        "* [CycleGAN](https://github.com/junyanz/CycleGAN)\n",
        "* [A whole list](https://github.com/wiseodd/generative-models)\n",
        "\n",
        "The idea behind GANs is that you have two networks, a generator $G$ and a discriminator $D$, competing against each other. The generator makes fake data to pass to the discriminator. The discriminator also sees real data and predicts if the data it's received is real or fake. The generator is trained to fool the discriminator, it wants to output data that looks _as close as possible_ to real data. And the discriminator is trained to figure out which data is real and which is fake. What ends up happening is that the generator learns to make data that is indistiguishable from real data to the discriminator.\n",
        "\n",
        "![GAN diagram](https://github.com/linked0/dlnd-deep-learning/blob/master/gan_mnist/assets/gan_diagram.png?raw=1)\n",
        "\n",
        "The general structure of a GAN is shown in the diagram above, using MNIST images as data. The latent sample is a random vector the generator uses to contruct it's fake images. As the generator learns through training, it figures out how to map these random vectors to recognizable images that can fool the discriminator.\n",
        "\n",
        "The output of the discriminator is a sigmoid function, where 0 indicates a fake image and 1 indicates an real image. If you're interested only in generating new images, you can throw out the discriminator after training. Now, let's see how we build this thing in TensorFlow."
      ]
    },
    {
      "metadata": {
        "id": "pulxL2twzike",
        "colab_type": "code",
        "colab": {
          "base_uri": "https://localhost:8080/",
          "height": 17
        },
        "outputId": "0c2cd245-e34e-42fe-c5c5-b223092593f9"
      },
      "cell_type": "code",
      "source": [
        "%matplotlib inline\n",
        "\n",
        "import pickle as pkl\n",
        "import numpy as np\n",
        "import tensorflow as tf\n",
        "import matplotlib.pyplot as plt"
      ],
      "execution_count": 11,
      "outputs": []
    },
    {
      "metadata": {
        "id": "PalPHRO6zikh",
        "colab_type": "code",
        "colab": {
          "base_uri": "https://localhost:8080/",
          "height": 479
        },
        "outputId": "410baa13-37c9-40b0-de3c-09a078c69421"
      },
      "cell_type": "code",
      "source": [
        "from tensorflow.examples.tutorials.mnist import input_data\n",
        "mnist = input_data.read_data_sets('MNIST_data')"
      ],
      "execution_count": 4,
      "outputs": [
        {
          "output_type": "stream",
          "text": [
            "WARNING:tensorflow:From <ipython-input-4-a37a59f11b0d>:2: read_data_sets (from tensorflow.contrib.learn.python.learn.datasets.mnist) is deprecated and will be removed in a future version.\n",
            "Instructions for updating:\n",
            "Please use alternatives such as official/mnist/dataset.py from tensorflow/models.\n",
            "WARNING:tensorflow:From /usr/local/lib/python3.6/dist-packages/tensorflow/contrib/learn/python/learn/datasets/mnist.py:260: maybe_download (from tensorflow.contrib.learn.python.learn.datasets.base) is deprecated and will be removed in a future version.\n",
            "Instructions for updating:\n",
            "Please write your own downloading logic.\n",
            "WARNING:tensorflow:From /usr/local/lib/python3.6/dist-packages/tensorflow/contrib/learn/python/learn/datasets/base.py:252: _internal_retry.<locals>.wrap.<locals>.wrapped_fn (from tensorflow.contrib.learn.python.learn.datasets.base) is deprecated and will be removed in a future version.\n",
            "Instructions for updating:\n",
            "Please use urllib or similar directly.\n",
            "Successfully downloaded train-images-idx3-ubyte.gz 9912422 bytes.\n",
            "WARNING:tensorflow:From /usr/local/lib/python3.6/dist-packages/tensorflow/contrib/learn/python/learn/datasets/mnist.py:262: extract_images (from tensorflow.contrib.learn.python.learn.datasets.mnist) is deprecated and will be removed in a future version.\n",
            "Instructions for updating:\n",
            "Please use tf.data to implement this functionality.\n",
            "Extracting MNIST_data/train-images-idx3-ubyte.gz\n",
            "Successfully downloaded train-labels-idx1-ubyte.gz 28881 bytes.\n",
            "WARNING:tensorflow:From /usr/local/lib/python3.6/dist-packages/tensorflow/contrib/learn/python/learn/datasets/mnist.py:267: extract_labels (from tensorflow.contrib.learn.python.learn.datasets.mnist) is deprecated and will be removed in a future version.\n",
            "Instructions for updating:\n",
            "Please use tf.data to implement this functionality.\n",
            "Extracting MNIST_data/train-labels-idx1-ubyte.gz\n",
            "Successfully downloaded t10k-images-idx3-ubyte.gz 1648877 bytes.\n",
            "Extracting MNIST_data/t10k-images-idx3-ubyte.gz\n",
            "Successfully downloaded t10k-labels-idx1-ubyte.gz 4542 bytes.\n",
            "Extracting MNIST_data/t10k-labels-idx1-ubyte.gz\n",
            "WARNING:tensorflow:From /usr/local/lib/python3.6/dist-packages/tensorflow/contrib/learn/python/learn/datasets/mnist.py:290: DataSet.__init__ (from tensorflow.contrib.learn.python.learn.datasets.mnist) is deprecated and will be removed in a future version.\n",
            "Instructions for updating:\n",
            "Please use alternatives such as official/mnist/dataset.py from tensorflow/models.\n"
          ],
          "name": "stdout"
        }
      ]
    },
    {
      "metadata": {
        "id": "RBkTLVZVzikl",
        "colab_type": "text"
      },
      "cell_type": "markdown",
      "source": [
        "## Model Inputs\n",
        "\n",
        "First we need to create the inputs for our graph. We need two inputs, one for the discriminator and one for the generator. Here we'll call the discriminator input `inputs_real` and the generator input `inputs_z`. We'll assign them the appropriate sizes for each of the networks.\n",
        "\n",
        ">**Exercise:** Finish the `model_inputs` function below. Create the placeholders for `inputs_real` and `inputs_z` using the input sizes `real_dim` and `z_dim` respectively."
      ]
    },
    {
      "metadata": {
        "id": "Q_phyBkYzikl",
        "colab_type": "code",
        "colab": {
          "base_uri": "https://localhost:8080/",
          "height": 17
        },
        "outputId": "e89c8901-64db-4255-82da-344f0325ad4f"
      },
      "cell_type": "code",
      "source": [
        "def model_inputs(real_dim, z_dim):\n",
        "    inputs_real = tf.placeholder(tf.float32, (None, real_dim), name='inputs_real')\n",
        "    inputs_z = tf.placeholder(tf.float32, (None, z_dim), name='inputs_z')\n",
        "    \n",
        "    return inputs_real, inputs_z"
      ],
      "execution_count": 12,
      "outputs": []
    },
    {
      "metadata": {
        "id": "BwT3ubKZziko",
        "colab_type": "text"
      },
      "cell_type": "markdown",
      "source": [
        "## Generator network\n",
        "\n",
        "![GAN Network](https://github.com/linked0/dlnd-deep-learning/blob/master/gan_mnist/assets/gan_network.png?raw=1)\n",
        "\n",
        "Here we'll build the generator network. To make this network a universal function approximator, we'll need at least one hidden layer. We should use a leaky ReLU to allow gradients to flow backwards through the layer unimpeded. A leaky ReLU is like a normal ReLU, except that there is a small non-zero output for negative input values.\n",
        "\n",
        "#### Variable Scope\n",
        "Here we need to use `tf.variable_scope` for two reasons. Firstly, we're going to make sure all the variable names start with `generator`. Similarly, we'll prepend `discriminator` to the discriminator variables. This will help out later when we're training the separate networks.\n",
        "\n",
        "We could just use `tf.name_scope` to set the names, but we also want to reuse these networks with different inputs. For the generator, we're going to train it, but also _sample from it_ as we're training and after training. The discriminator will need to share variables between the fake and real input images. So, we can use the `reuse` keyword for `tf.variable_scope` to tell TensorFlow to reuse the variables instead of creating new ones if we build the graph again.\n",
        "\n",
        "To use `tf.variable_scope`, you use a `with` statement:\n",
        "```python\n",
        "with tf.variable_scope('scope_name', reuse=False):\n",
        "    # code here\n",
        "```\n",
        "\n",
        "Here's more from [the TensorFlow documentation](https://www.tensorflow.org/programmers_guide/variable_scope#the_problem) to get another look at using `tf.variable_scope`.\n",
        "\n",
        "#### Leaky ReLU\n",
        "TensorFlow doesn't provide an operation for leaky ReLUs, so we'll need to make one . For this you can just take the outputs from a linear fully connected layer and pass them to `tf.maximum`. Typically, a parameter `alpha` sets the magnitude of the output for negative values. So, the output for negative input (`x`) values is `alpha*x`, and the output for positive `x` is `x`:\n",
        "$$\n",
        "f(x) = max(\\alpha * x, x)\n",
        "$$\n",
        "\n",
        "#### Tanh Output\n",
        "The generator has been found to perform the best with $tanh$ for the generator output. This means that we'll have to rescale the MNIST images to be between -1 and 1, instead of 0 and 1.\n",
        "\n",
        ">**Exercise:** Implement the generator network in the function below. You'll need to return the tanh output. Make sure to wrap your code in a variable scope, with 'generator' as the scope name, and pass the `reuse` keyword argument from the function to `tf.variable_scope`."
      ]
    },
    {
      "metadata": {
        "id": "aTec6kVdzikp",
        "colab_type": "code",
        "colab": {
          "base_uri": "https://localhost:8080/",
          "height": 17
        },
        "outputId": "198628ec-e473-4bb8-a7bd-b0beb317a289"
      },
      "cell_type": "code",
      "source": [
        "def generator(z, out_dim, n_units=128, reuse=False,  alpha=0.01):\n",
        "    ''' Build the generator network.\n",
        "    \n",
        "        Arguments\n",
        "        ---------\n",
        "        z : Input tensor for the generator\n",
        "        out_dim : Shape of the generator output\n",
        "        n_units : Number of units in hidden layer\n",
        "        reuse : Reuse the variables with tf.variable_scope\n",
        "        alpha : leak parameter for leaky ReLU\n",
        "        \n",
        "        Returns\n",
        "        -------\n",
        "        out: \n",
        "    '''\n",
        "    with tf.variable_scope('generator', reuse=reuse): # finish this\n",
        "        # Hidden layer\n",
        "        h1 = tf.layers.dense(z, n_units, activation=None)\n",
        "        # Leaky ReLU\n",
        "        h1 = tf.maximum(alpha * h1, h1)\n",
        "        \n",
        "        # Logits and tanh output\n",
        "        logits = tf.layers.dense(h1, out_dim, activation=None)\n",
        "        out = tf.nn.tanh(logits)\n",
        "        \n",
        "        return out"
      ],
      "execution_count": 17,
      "outputs": []
    },
    {
      "metadata": {
        "id": "1oPUjqU9ziks",
        "colab_type": "text"
      },
      "cell_type": "markdown",
      "source": [
        "## Discriminator\n",
        "\n",
        "The discriminator network is almost exactly the same as the generator network, except that we're using a sigmoid output layer.\n",
        "\n",
        ">**Exercise:** Implement the discriminator network in the function below. Same as above, you'll need to return both the logits and the sigmoid output. Make sure to wrap your code in a variable scope, with 'discriminator' as the scope name, and pass the `reuse` keyword argument from the function arguments to `tf.variable_scope`."
      ]
    },
    {
      "metadata": {
        "id": "qzbMyphUziks",
        "colab_type": "code",
        "colab": {
          "base_uri": "https://localhost:8080/",
          "height": 17
        },
        "outputId": "6b58abf4-ae9a-4d68-8c17-ceb74be6796b"
      },
      "cell_type": "code",
      "source": [
        "def discriminator(x, n_units=128, reuse=False, alpha=0.01):\n",
        "    ''' Build the discriminator network.\n",
        "    \n",
        "        Arguments\n",
        "        ---------\n",
        "        x : Input tensor for the discriminator\n",
        "        n_units: Number of units in hidden layer\n",
        "        reuse : Reuse the variables with tf.variable_scope\n",
        "        alpha : leak parameter for leaky ReLU\n",
        "        \n",
        "        Returns\n",
        "        -------\n",
        "        out, logits: \n",
        "    '''\n",
        "    with tf.variable_scope('discriminator', reuse=reuse): # finish this\n",
        "        # Hidden layer\n",
        "        h1 = tf.layers.dense(x, n_units, activation=None)\n",
        "        # Leaky ReLU\n",
        "        h1 = tf.maximum(alpha * h1, h1)\n",
        "        \n",
        "        logits = tf.layers.dense(h1, 1, activation=None)\n",
        "        out = tf.nn.tanh(logits)\n",
        "        \n",
        "        return out, logits"
      ],
      "execution_count": 18,
      "outputs": []
    },
    {
      "metadata": {
        "id": "3mylw2JHzikv",
        "colab_type": "text"
      },
      "cell_type": "markdown",
      "source": [
        "## Hyperparameters"
      ]
    },
    {
      "metadata": {
        "id": "APz0zxIezikw",
        "colab_type": "code",
        "colab": {
          "base_uri": "https://localhost:8080/",
          "height": 17
        },
        "outputId": "f3797724-1de4-4de8-b14a-9e6695d1be25"
      },
      "cell_type": "code",
      "source": [
        "# Size of input image to discriminator\n",
        "input_size = 784 # 28x28 MNIST images flattened\n",
        "# Size of latent vector to generator\n",
        "z_size = 100\n",
        "# Sizes of hidden layers in generator and discriminator\n",
        "g_hidden_size = 128\n",
        "d_hidden_size = 128\n",
        "# Leak factor for leaky ReLU\n",
        "alpha = 0.01\n",
        "# Label smoothing \n",
        "smooth = 0.1"
      ],
      "execution_count": 19,
      "outputs": []
    },
    {
      "metadata": {
        "id": "YLj3DpEQzikz",
        "colab_type": "text"
      },
      "cell_type": "markdown",
      "source": [
        "## Build network\n",
        "\n",
        "Now we're building the network from the functions defined above.\n",
        "\n",
        "First is to get our inputs, `input_real, input_z` from `model_inputs` using the sizes of the input and z.\n",
        "\n",
        "Then, we'll create the generator, `generator(input_z, input_size)`. This builds the generator with the appropriate input and output sizes.\n",
        "\n",
        "Then the discriminators. We'll build two of them, one for real data and one for fake data. Since we want the weights to be the same for both real and fake data, we need to reuse the variables. For the fake data, we're getting it from the generator as `g_model`. So the real data discriminator is `discriminator(input_real)` while the fake discriminator is `discriminator(g_model, reuse=True)`.\n",
        "\n",
        ">**Exercise:** Build the network from the functions you defined earlier."
      ]
    },
    {
      "metadata": {
        "id": "FqF-vTDDzikz",
        "colab_type": "code",
        "colab": {
          "base_uri": "https://localhost:8080/",
          "height": 17
        },
        "outputId": "91350ccf-8ea3-49b3-98eb-0dcbf1ea5ab6"
      },
      "cell_type": "code",
      "source": [
        "tf.reset_default_graph()\n",
        "# Create our input placeholders\n",
        "input_real, input_z = model_inputs(input_size, z_size)\n",
        "\n",
        "# Generator network here\n",
        "g_model = generator(input_z, input_size)\n",
        "# g_model is the generator output\n",
        "\n",
        "# Disriminator network here\n",
        "d_model_real, d_logits_real = discriminator(input_real)\n",
        "d_model_fake, d_logits_fake = discriminator(g_model, reuse=True)"
      ],
      "execution_count": 20,
      "outputs": []
    },
    {
      "metadata": {
        "id": "xcyuLXnFzik2",
        "colab_type": "text"
      },
      "cell_type": "markdown",
      "source": [
        "## Discriminator and Generator Losses\n",
        "\n",
        "Now we need to calculate the losses, which is a little tricky. For the discriminator, the total loss is the sum of the losses for real and fake images, `d_loss = d_loss_real + d_loss_fake`. The losses will be sigmoid cross-entropies, which we can get with `tf.nn.sigmoid_cross_entropy_with_logits`. We'll also wrap that in `tf.reduce_mean` to get the mean for all the images in the batch. So the losses will look something like \n",
        "\n",
        "```python\n",
        "tf.reduce_mean(tf.nn.sigmoid_cross_entropy_with_logits(logits=logits, labels=labels))\n",
        "```\n",
        "\n",
        "For the real image logits, we'll use `d_logits_real` which we got from the discriminator in the cell above. For the labels, we want them to be all ones, since these are all real images. To help the discriminator generalize better, the labels are reduced a bit from 1.0 to 0.9, for example,  using the parameter `smooth`. This is known as label smoothing, typically used with classifiers to improve performance. In TensorFlow, it looks something like `labels = tf.ones_like(tensor) * (1 - smooth)`\n",
        "\n",
        "The discriminator loss for the fake data is similar. The logits are `d_logits_fake`, which we got from passing the generator output to the discriminator. These fake logits are used with labels of all zeros. Remember that we want the discriminator to output 1 for real images and 0 for fake images, so we need to set up the losses to reflect that.\n",
        "\n",
        "Finally, the generator losses are using `d_logits_fake`, the fake image logits. But, now the labels are all ones. The generator is trying to fool the discriminator, so it wants to discriminator to output ones for fake images.\n",
        "\n",
        ">**Exercise:** Calculate the losses for the discriminator and the generator. There are two discriminator losses, one for real images and one for fake images. For the real image loss, use the real logits and (smoothed) labels of ones. For the fake image loss, use the fake logits with labels of all zeros. The total discriminator loss is the sum of those two losses. Finally, the generator loss again uses the fake logits from the discriminator, but this time the labels are all ones because the generator wants to fool the discriminator."
      ]
    },
    {
      "metadata": {
        "id": "e-kv6gkUzik3",
        "colab_type": "code",
        "colab": {
          "base_uri": "https://localhost:8080/",
          "height": 17
        },
        "outputId": "39169616-ebd9-4008-b2b5-62a1898f0e39"
      },
      "cell_type": "code",
      "source": [
        "# Calculate losses\n",
        "d_loss_real = tf.reduce_mean(tf.nn.sigmoid_cross_entropy_with_logits(logits=d_logits_real, labels=tf.ones_like(d_logits_real) * (1 - smooth)))\n",
        "\n",
        "d_loss_fake = tf.reduce_mean(tf.nn.sigmoid_cross_entropy_with_logits(logits=d_logits_fake, labels=tf.zeros_like(d_logits_fake)))\n",
        "\n",
        "d_loss = d_loss_real + d_loss_fake\n",
        "\n",
        "g_loss = tf.reduce_mean(tf.nn.sigmoid_cross_entropy_with_logits(logits=d_logits_fake, labels=tf.ones_like(d_logits_fake)))"
      ],
      "execution_count": 25,
      "outputs": []
    },
    {
      "metadata": {
        "id": "wPXDri-Qzik5",
        "colab_type": "text"
      },
      "cell_type": "markdown",
      "source": [
        "## Optimizers\n",
        "\n",
        "We want to update the generator and discriminator variables separately. So we need to get the variables for each part and build optimizers for the two parts. To get all the trainable variables, we use `tf.trainable_variables()`. This creates a list of all the variables we've defined in our graph.\n",
        "\n",
        "For the generator optimizer, we only want to generator variables. Our past selves were nice and used a variable scope to start all of our generator variable names with `generator`. So, we just need to iterate through the list from `tf.trainable_variables()` and keep variables that start with `generator`. Each variable object has an attribute `name` which holds the name of the variable as a string (`var.name == 'weights_0'` for instance). \n",
        "\n",
        "We can do something similar with the discriminator. All the variables in the discriminator start with `discriminator`.\n",
        "\n",
        "Then, in the optimizer we pass the variable lists to the `var_list` keyword argument of the `minimize` method. This tells the optimizer to only update the listed variables. Something like `tf.train.AdamOptimizer().minimize(loss, var_list=var_list)` will only train the variables in `var_list`.\n",
        "\n",
        ">**Exercise: ** Below, implement the optimizers for the generator and discriminator. First you'll need to get a list of trainable variables, then split that list into two lists, one for the generator variables and another for the discriminator variables. Finally, using `AdamOptimizer`, create an optimizer for each network that update the network variables separately."
      ]
    },
    {
      "metadata": {
        "id": "jjK2mcP6zik7",
        "colab_type": "code",
        "colab": {
          "base_uri": "https://localhost:8080/",
          "height": 17
        },
        "outputId": "132cd7db-9e8e-4de0-9adb-72c94a23cb88"
      },
      "cell_type": "code",
      "source": [
        "# Optimizers\n",
        "learning_rate = 0.002\n",
        "\n",
        "# Get the trainable_variables, split into G and D parts\n",
        "t_vars = tf.trainable_variables()\n",
        "g_vars = [var for var in t_vars if var.name.startswith('generator')]\n",
        "d_vars = [var for var in t_vars if var.name.startswith('discriminator')]\n",
        "\n",
        "d_train_opt = tf.train.AdamOptimizer(learning_rate).minimize(d_loss, var_list=d_vars)\n",
        "g_train_opt = tf.train.AdamOptimizer(learning_rate).minimize(g_loss, var_list=g_vars)"
      ],
      "execution_count": 29,
      "outputs": []
    },
    {
      "metadata": {
        "id": "dXuXDwOmzik9",
        "colab_type": "text"
      },
      "cell_type": "markdown",
      "source": [
        "## Training"
      ]
    },
    {
      "metadata": {
        "id": "5o-yQAhZzik-",
        "colab_type": "code",
        "colab": {}
      },
      "cell_type": "code",
      "source": [
        "batch_size = 100\n",
        "epochs = 1000\n",
        "samples = []\n",
        "losses = []\n",
        "saver = tf.train.Saver(var_list = g_vars)\n",
        "with tf.Session() as sess:\n",
        "    sess.run(tf.global_variables_initializer())\n",
        "    for e in range(epochs):\n",
        "        for ii in range(mnist.train.num_examples//batch_size):\n",
        "            batch = mnist.train.next_batch(batch_size)\n",
        "            \n",
        "            # Get images, reshape and rescale to pass to D\n",
        "            batch_images = batch[0].reshape((batch_size, 784))\n",
        "            batch_images = batch_images*2 - 1\n",
        "            \n",
        "            # Sample random noise for G\n",
        "            batch_z = np.random.uniform(-1, 1, size=(batch_size, z_size))\n",
        "            \n",
        "            # Run optimizers\n",
        "            _ = sess.run(d_train_opt, feed_dict={input_real: batch_images, input_z: batch_z})\n",
        "            _ = sess.run(g_train_opt, feed_dict={input_z: batch_z})\n",
        "        \n",
        "        # At the end of each epoch, get the losses and print them out\n",
        "        train_loss_d = sess.run(d_loss, {input_z: batch_z, input_real: batch_images})\n",
        "        train_loss_g = g_loss.eval({input_z: batch_z})\n",
        "            \n",
        "        print(\"Epoch {}/{}...\".format(e+1, epochs),\n",
        "              \"Discriminator Loss: {:.4f}...\".format(train_loss_d),\n",
        "              \"Generator Loss: {:.4f}\".format(train_loss_g))    \n",
        "        # Save losses to view after training\n",
        "        losses.append((train_loss_d, train_loss_g))\n",
        "        \n",
        "        # Sample from generator as we're training for viewing afterwards\n",
        "        sample_z = np.random.uniform(-1, 1, size=(16, z_size))\n",
        "        gen_samples = sess.run(\n",
        "                       generator(input_z, input_size, n_units=g_hidden_size, reuse=True, alpha=alpha),\n",
        "                       feed_dict={input_z: sample_z})\n",
        "        samples.append(gen_samples)\n",
        "        saver.save(sess, './checkpoints/generator.ckpt')\n",
        "\n",
        "# Save training generator samples\n",
        "with open('train_samples.pkl', 'wb') as f:\n",
        "    pkl.dump(samples, f)"
      ],
      "execution_count": 0,
      "outputs": []
    },
    {
      "metadata": {
        "id": "cjNmTtIAzilA",
        "colab_type": "text"
      },
      "cell_type": "markdown",
      "source": [
        "## Training loss\n",
        "\n",
        "Here we'll check out the training losses for the generator and discriminator."
      ]
    },
    {
      "metadata": {
        "id": "ICSN4vgSzilB",
        "colab_type": "code",
        "colab": {
          "base_uri": "https://localhost:8080/",
          "height": 17
        },
        "outputId": "dcb2367d-28a7-4121-b1a8-af86388996c9"
      },
      "cell_type": "code",
      "source": [
        "%matplotlib inline\n",
        "\n",
        "import matplotlib.pyplot as plt"
      ],
      "execution_count": 31,
      "outputs": []
    },
    {
      "metadata": {
        "id": "rsxrOw4uzilD",
        "colab_type": "code",
        "colab": {
          "base_uri": "https://localhost:8080/",
          "height": 297
        },
        "outputId": "5979ea2b-bae3-4cad-cd08-a7b09dcd1e23"
      },
      "cell_type": "code",
      "source": [
        "fig, ax = plt.subplots()\n",
        "losses = np.array(losses)\n",
        "plt.plot(losses.T[0], label='Discriminator')\n",
        "plt.plot(losses.T[1], label='Generator')\n",
        "plt.title(\"Training Losses\")\n",
        "plt.legend()"
      ],
      "execution_count": 41,
      "outputs": [
        {
          "output_type": "execute_result",
          "data": {
            "text/plain": [
              "<matplotlib.legend.Legend at 0x7f14d1623d68>"
            ]
          },
          "metadata": {
            "tags": []
          },
          "execution_count": 41
        },
        {
          "output_type": "display_data",
          "data": {
            "image/png": "[encoded data removed]",
            "text/plain": [
              "<matplotlib.figure.Figure at 0x7f14e16093c8>"
            ]
          },
          "metadata": {
            "tags": []
          }
        }
      ]
    },
    {
      "metadata": {
        "id": "KifvGY0XzilF",
        "colab_type": "text"
      },
      "cell_type": "markdown",
      "source": [
        "## Generator samples from training\n",
        "\n",
        "Here we can view samples of images from the generator. First we'll look at images taken while training."
      ]
    },
    {
      "metadata": {
        "id": "8a2Wwvr7zilG",
        "colab_type": "code",
        "colab": {
          "base_uri": "https://localhost:8080/",
          "height": 17
        },
        "outputId": "3488908d-2c05-4970-8ae7-8074ddee86ab"
      },
      "cell_type": "code",
      "source": [
        "def view_samples(epoch, samples):\n",
        "    fig, axes = plt.subplots(figsize=(7,7), nrows=4, ncols=4, sharey=True, sharex=True)\n",
        "    for ax, img in zip(axes.flatten(), samples[epoch]):\n",
        "        ax.xaxis.set_visible(False)\n",
        "        ax.yaxis.set_visible(False)\n",
        "        im = ax.imshow(img.reshape((28,28)), cmap='Greys_r')\n",
        "    \n",
        "    return fig, axes"
      ],
      "execution_count": 42,
      "outputs": []
    },
    {
      "metadata": {
        "id": "wN4TFhnuzilH",
        "colab_type": "code",
        "colab": {
          "base_uri": "https://localhost:8080/",
          "height": 17
        },
        "outputId": "2916cf80-4db8-4577-cfa9-6daeafffd6c5"
      },
      "cell_type": "code",
      "source": [
        "# Load samples from generator taken while training\n",
        "with open('train_samples.pkl', 'rb') as f:\n",
        "    samples = pkl.load(f)"
      ],
      "execution_count": 43,
      "outputs": []
    },
    {
      "metadata": {
        "id": "c7eQcFQHzilK",
        "colab_type": "text"
      },
      "cell_type": "markdown",
      "source": [
        "These are samples from the final training epoch. You can see the generator is able to reproduce numbers like 5, 7, 3, 0, 9. Since this is just a sample, it isn't representative of the full range of images this generator can make."
      ]
    },
    {
      "metadata": {
        "id": "dwgTSzFyzilL",
        "colab_type": "code",
        "colab": {
          "base_uri": "https://localhost:8080/",
          "height": 411
        },
        "outputId": "3e3fd835-e566-4fac-b7a9-e9020057cc40"
      },
      "cell_type": "code",
      "source": [
        "_ = view_samples(100, samples)"
      ],
      "execution_count": 45,
      "outputs": [
        {
          "output_type": "display_data",
          "data": {
            "image/png": "[encoded data removed]",
            "text/plain": [
              "<matplotlib.figure.Figure at 0x7f14e00ba978>"
            ]
          },
          "metadata": {
            "tags": []
          }
        }
      ]
    },
    {
      "metadata": {
        "id": "QG4DANi2zilO",
        "colab_type": "text"
      },
      "cell_type": "markdown",
      "source": [
        "Below I'm showing the generated images as the network was training, every 10 epochs. With bonus optical illusion!"
      ]
    },
    {
      "metadata": {
        "id": "Zq-5OWk8zilP",
        "colab_type": "code",
        "colab": {
          "base_uri": "https://localhost:8080/",
          "height": 683
        },
        "outputId": "535a09eb-858e-48a0-906f-da7c5b65946b"
      },
      "cell_type": "code",
      "source": [
        "rows, cols = 10, 6\n",
        "fig, axes = plt.subplots(figsize=(7,12), nrows=rows, ncols=cols, sharex=True, sharey=True)\n",
        "\n",
        "for sample, ax_row in zip(samples[::int(len(samples)/rows)], axes):\n",
        "    for img, ax in zip(sample[::int(len(sample)/cols)], ax_row):\n",
        "        ax.imshow(img.reshape((28,28)), cmap='Greys_r')\n",
        "        ax.xaxis.set_visible(False)\n",
        "        ax.yaxis.set_visible(False)"
      ],
      "execution_count": 46,
      "outputs": [
        {
          "output_type": "display_data",
          "data": {
            "image/png": "[encoded data removed]",
            "text/plain": [
              "<matplotlib.figure.Figure at 0x7f14e01444a8>"
            ]
          },
          "metadata": {
            "tags": []
          }
        }
      ]
    },
    {
      "metadata": {
        "id": "59vt8DLZzilS",
        "colab_type": "text"
      },
      "cell_type": "markdown",
      "source": [
        "It starts out as all noise. Then it learns to make only the center white and the rest black. You can start to see some number like structures appear out of the noise. Looks like 1, 9, and 8 show up first. Then, it learns 5 and 3."
      ]
    },
    {
      "metadata": {
        "id": "Sp7bg5qYzilT",
        "colab_type": "text"
      },
      "cell_type": "markdown",
      "source": [
        "## Sampling from the generator\n",
        "\n",
        "We can also get completely new images from the generator by using the checkpoint we saved after training. We just need to pass in a new latent vector $z$ and we'll get new samples!"
      ]
    },
    {
      "metadata": {
        "id": "q20zlAMLekGd",
        "colab_type": "code",
        "colab": {
          "base_uri": "https://localhost:8080/",
          "height": 181
        },
        "outputId": "dd239419-731e-4d28-e49c-8229f66556a6"
      },
      "cell_type": "code",
      "source": [
        "# g_vars는 그래프를 한번 만들어야 얻을 수 있는 것이라서 위의 Optimizer 셀까지는 한번 실행해줘야 한다.\n",
        "with open('g_vars.pkl', 'wb') as f:\n",
        "  pkl.dump(g_vars, f)"
      ],
      "execution_count": 62,
      "outputs": [
        {
          "output_type": "error",
          "ename": "TypeError",
          "evalue": "ignored",
          "traceback": [
            "\u001b[0;31m---------------------------------------------------------------------------\u001b[0m",
            "\u001b[0;31mTypeError\u001b[0m                                 Traceback (most recent call last)",
            "\u001b[0;32m<ipython-input-62-9f7ae4f49e54>\u001b[0m in \u001b[0;36m<module>\u001b[0;34m()\u001b[0m\n\u001b[1;32m      1\u001b[0m \u001b[0;32mwith\u001b[0m \u001b[0mopen\u001b[0m\u001b[0;34m(\u001b[0m\u001b[0;34m'g_vars.pkl'\u001b[0m\u001b[0;34m,\u001b[0m \u001b[0;34m'wb'\u001b[0m\u001b[0;34m)\u001b[0m \u001b[0;32mas\u001b[0m \u001b[0mf\u001b[0m\u001b[0;34m:\u001b[0m\u001b[0;34m\u001b[0m\u001b[0m\n\u001b[0;32m----> 2\u001b[0;31m   \u001b[0mpkl\u001b[0m\u001b[0;34m.\u001b[0m\u001b[0mdump\u001b[0m\u001b[0;34m(\u001b[0m\u001b[0mg_vars\u001b[0m\u001b[0;34m,\u001b[0m \u001b[0mf\u001b[0m\u001b[0;34m)\u001b[0m\u001b[0;34m\u001b[0m\u001b[0m\n\u001b[0m",
            "\u001b[0;31mTypeError\u001b[0m: can't pickle _thread.RLock objects"
          ]
        }
      ]
    },
    {
      "metadata": {
        "id": "tTzJEhYszilU",
        "colab_type": "code",
        "colab": {
          "base_uri": "https://localhost:8080/",
          "height": 734
        },
        "outputId": "7a5ec6b2-f30d-4ff8-9386-a693f31a2ecd"
      },
      "cell_type": "code",
      "source": [
        "saver = tf.train.Saver(var_list=g_vars)\n",
        "with tf.Session() as sess:\n",
        "    saver.restore(sess, tf.train.latest_checkpoint('checkpoints'))\n",
        "    sample_z = np.random.uniform(-1, 1, size=(16, z_size))\n",
        "    gen_samples = sess.run(\n",
        "                   generator(input_z, input_size, n_units=g_hidden_size, reuse=True, alpha=alpha),\n",
        "                   feed_dict={input_z: sample_z})\n",
        "view_samples(0, [gen_samples])"
      ],
      "execution_count": 61,
      "outputs": [
        {
          "output_type": "stream",
          "text": [
            "INFO:tensorflow:Restoring parameters from checkpoints/generator.ckpt\n"
          ],
          "name": "stdout"
        },
        {
          "output_type": "execute_result",
          "data": {
            "text/plain": [
              "(<matplotlib.figure.Figure at 0x7f14d009e6d8>,\n",
              " array([[<matplotlib.axes._subplots.AxesSubplot object at 0x7f14d00a3a90>,\n",
              "         <matplotlib.axes._subplots.AxesSubplot object at 0x7f14d006f4a8>,\n",
              "         <matplotlib.axes._subplots.AxesSubplot object at 0x7f14d0023908>,\n",
              "         <matplotlib.axes._subplots.AxesSubplot object at 0x7f14cffdac88>],\n",
              "        [<matplotlib.axes._subplots.AxesSubplot object at 0x7f14cff86d30>,\n",
              "         <matplotlib.axes._subplots.AxesSubplot object at 0x7f14cff49048>,\n",
              "         <matplotlib.axes._subplots.AxesSubplot object at 0x7f14cfeff518>,\n",
              "         <matplotlib.axes._subplots.AxesSubplot object at 0x7f14cfeb5a58>],\n",
              "        [<matplotlib.axes._subplots.AxesSubplot object at 0x7f14cff66128>,\n",
              "         <matplotlib.axes._subplots.AxesSubplot object at 0x7f14cfe98c18>,\n",
              "         <matplotlib.axes._subplots.AxesSubplot object at 0x7f14cfe5a198>,\n",
              "         <matplotlib.axes._subplots.AxesSubplot object at 0x7f14cfe10518>],\n",
              "        [<matplotlib.axes._subplots.AxesSubplot object at 0x7f14cfdc5d68>,\n",
              "         <matplotlib.axes._subplots.AxesSubplot object at 0x7f14cfd79278>,\n",
              "         <matplotlib.axes._subplots.AxesSubplot object at 0x7f14cfdad5f8>,\n",
              "         <matplotlib.axes._subplots.AxesSubplot object at 0x7f14cfd5fe48>]],\n",
              "       dtype=object))"
            ]
          },
          "metadata": {
            "tags": []
          },
          "execution_count": 61
        },
        {
          "output_type": "display_data",
          "data": {
            "image/png": "[encoded data removed]",
            "text/plain": [
              "<matplotlib.figure.Figure at 0x7f14d009e6d8>"
            ]
          },
          "metadata": {
            "tags": []
          }
        }
      ]
    }
  ]
}